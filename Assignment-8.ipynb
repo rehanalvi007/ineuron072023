{
 "cells": [
  {
   "cell_type": "markdown",
   "id": "7c0ce258-27ec-4493-ae4d-4f25a6b87f37",
   "metadata": {},
   "source": [
    "# Assignment 8"
   ]
  },
  {
   "cell_type": "markdown",
   "id": "c37e7c40-82c9-48a8-a713-b413a9eed215",
   "metadata": {},
   "source": [
    "<h3>Q1. In Python, what is the difference between a built-in function and a user-defined function? Provide an example of each.</h3>\n",
    "<h5>Ans -  Built-in-function -</h5> <p>The standard function in python that are available to use are called built-in-function. </p>\n",
    "    <h5>Example- print(),sum()</h5>\n",
    "  <h5>User-defined function -</h5>  <p> Functions that we define ourselves to do certain specific task are referred as user-defined functions.</p>"
   ]
  },
  {
   "cell_type": "code",
   "execution_count": 1,
   "id": "24d33e22-915e-4171-83b2-4d64084ca892",
   "metadata": {
    "tags": []
   },
   "outputs": [
    {
     "data": {
      "text/plain": [
       "14"
      ]
     },
     "execution_count": 1,
     "metadata": {},
     "output_type": "execute_result"
    }
   ],
   "source": [
    "# Example of user define function\n",
    "def Addition(a,b):\n",
    "    return a + b\n",
    "Addition(5,9)"
   ]
  },
  {
   "cell_type": "markdown",
   "id": "ce2d80a1-b024-46fd-b4e7-2352c9714e6f",
   "metadata": {
    "tags": []
   },
   "source": [
    "<h3>Q2. How can you pass arguments to a function in Python? </h3>\n",
    "<h4> Ans - </h4> To pass arguments to a function in Python, we can use:\n",
    "<h5> Positional arguments:</h5> <p1> pass the arguments in the same order as the parameters of the function.</p1>\n",
    "<h5>Keyword arguments:</h5> <p1> pass the arguments as name-value pairs, regardless of the order of the parameters. </p1>\n",
    "<h5>Default values:</h5> <p1> assign a default value to a parameter, so that it is optional to pass an argument for it.</p1>\n"
   ]
  },
  {
   "cell_type": "markdown",
   "id": "a2e43e3b-46ca-4d8c-8dfe-3d65f7b51728",
   "metadata": {
    "tags": []
   },
   "source": [
    "<h4>Explain the difference between positional arguments and keyword arguments?</h4>\n",
    "<h5> Ans- Positional Arguments - </h5> <li>Arguments are passed in the order of parameters. The order defined in the order function declaration.</li>\n",
    "<li>Order of values cannot be changed to avoid the unexpected output.</li>\n",
    "<li>Syntax :-FunctionName(value1, value2, value3,....)</li>\n",
    "<h5> Keyword arguments - </h5> <li>Parameter Names are used to pass the argument during the function call.</li>\n",
    "<li>Order of parameter Names can be changed to pass the argument(or values).</li>\n",
    "<li>Syntax : – FunctionName(paramName = value, ...)\t</li>\n",
    "\n",
    "\n"
   ]
  },
  {
   "cell_type": "markdown",
   "id": "1b85645e-9eb2-4b92-865b-ef3574a93453",
   "metadata": {},
   "source": [
    "<h3>Q3. What is the purpose of the return statement in a function? Can a function have multiple return\n",
    "statements? Explain with an example.</h3>\n",
    "<li>The python return statement is used to return values from the function. We can use the return statement in a function only. It can’t be used outside of a Python function.</li>\n",
    "<p1> A function may have any number of return statements each returning different values and each return statements will not occur successively.</p1>\n"
   ]
  },
  {
   "cell_type": "code",
   "execution_count": 1,
   "id": "c897cfa4-66cb-43ea-b8c2-8ca7e32bcda6",
   "metadata": {
    "tags": []
   },
   "outputs": [
    {
     "data": {
      "text/plain": [
       "4"
      ]
     },
     "execution_count": 1,
     "metadata": {},
     "output_type": "execute_result"
    }
   ],
   "source": [
    "#Example\n",
    "def add(a, b):\n",
    "    result = a + b\n",
    "    return result\n",
    "\n",
    "add(2, 2)"
   ]
  },
  {
   "cell_type": "markdown",
   "id": "e1650b1f-f7dd-464b-ab7d-392875ca861c",
   "metadata": {
    "tags": []
   },
   "source": [
    "<h3>Q4. What are lambda functions in Python? How are they different from regular functions? Provide an\n",
    "example where a lambda function can be useful.</h3>\n",
    "<h4>Ans - </h4> <li>Python Lambda Functions are anonymous function means that the function is without a name.</li>\n",
    "<p1>A lambda function is an anonymous function (i.e., defined without a name) that can take any number of arguments but, unlike normal functions, evaluates and returns only one expression. Note that, unlike a normal function, we don't surround the parameters of a lambda function with parentheses.</p1>"
   ]
  },
  {
   "cell_type": "code",
   "execution_count": 5,
   "id": "7d251295-c439-4592-8885-46fc3c86768f",
   "metadata": {
    "tags": []
   },
   "outputs": [
    {
     "name": "stdout",
     "output_type": "stream",
     "text": [
      "3.0\n",
      "3.0\n"
     ]
    }
   ],
   "source": [
    "# Define function to calculate cube root\n",
    "  \n",
    "def calculate_cube_root(x):\n",
    "    return x**(1/3)\n",
    "  \n",
    "print(calculate_cube_root(27))\n",
    "# Define function using lambda for cube root\n",
    "cube_root= lambda x: x**(1/3)\n",
    "  \n",
    "# Call the lambda function\n",
    "print(cube_root(27))"
   ]
  },
  {
   "cell_type": "markdown",
   "id": "9edb76da-3164-45d8-b535-6d2f70ecf911",
   "metadata": {},
   "source": [
    "<h3>5. How does the concept of \"scope\" apply to functions in Python? Explain the difference between local scope and global scope.</h3>\n",
    "<h4> Ans - </h4> <p1>Every time you call a function, you create a new local scope—a namespace where names created inside the function usually live. Assigned names are local, unless declared global. By default, all the names assigned inside a function definition are put in the local scope.</p1>\n",
    "<h4>Difference between local scope and global scope - </h4>\n",
    "<h4>Local scope - </h4>\n",
    "<p1>A variable created inside a function belongs to the local scope of that function, and can only be used inside that function.</p1>\n",
    "<h4>Global scope - </h4>\n",
    "<p1>A variable created in the main body of the Python code is a global variable and belongs to the global scope.\n",
    "Global variables are available from within any scope, global and local. </p1>"
   ]
  },
  {
   "cell_type": "code",
   "execution_count": 9,
   "id": "d49ca30e-b7e8-4100-8e94-48e3605ebed0",
   "metadata": {
    "tags": []
   },
   "outputs": [
    {
     "name": "stdout",
     "output_type": "stream",
     "text": [
      "300\n"
     ]
    }
   ],
   "source": [
    "#A variable created inside a function is available inside that function:\n",
    "\n",
    "def myfunc():\n",
    "  x = 300\n",
    "  print(x)\n",
    "\n",
    "myfunc()"
   ]
  },
  {
   "cell_type": "code",
   "execution_count": 10,
   "id": "bf64672f-0ffe-45e5-865a-29081ca4b765",
   "metadata": {
    "tags": []
   },
   "outputs": [
    {
     "name": "stdout",
     "output_type": "stream",
     "text": [
      "300\n",
      "300\n"
     ]
    }
   ],
   "source": [
    "#A variable created outside of a function is global and can be used by anyone:\n",
    "\n",
    "x = 300\n",
    "\n",
    "def myfunc():\n",
    "  print(x)\n",
    "\n",
    "myfunc()\n",
    "\n",
    "print(x)"
   ]
  },
  {
   "cell_type": "markdown",
   "id": "6e7e072c-b0d4-4b1c-8d3d-9d1ee3b4e777",
   "metadata": {
    "tags": []
   },
   "source": [
    "<h3>Q6. How can you use the \"return\" statement in a Python function to return multiple values?</h3>"
   ]
  },
  {
   "cell_type": "code",
   "execution_count": 12,
   "id": "5247076f-9a35-4468-8835-d57bb1cce390",
   "metadata": {
    "tags": []
   },
   "outputs": [
    {
     "name": "stdout",
     "output_type": "stream",
     "text": [
      "['Sum', 15]\n"
     ]
    }
   ],
   "source": [
    "#Returning Multiple Values using List\n",
    "def multiple():\n",
    "    operation = \"Sum\" \n",
    "    total = 5+10\n",
    "    return [operation, total];\n",
    "\n",
    "values = multiple()\n",
    "\n",
    "print(values)\n",
    "#Output = [\"Sum\", 15]"
   ]
  },
  {
   "cell_type": "markdown",
   "id": "1aa64aff-71b6-42d1-8b47-2b7a5d2bba19",
   "metadata": {},
   "source": [
    "<h3>Q7. What is the difference between the \"pass by value\" and \"pass by reference\" concepts when it\n",
    "comes to function arguments in Python?</h3>\n",
    "<h4>Ans - </h4> <p1>When you pass function arguments by reference, those arguments are only references to existing values. In contrast, when you pass arguments by value, those arguments become independent copies of the original values.</p1>\n"
   ]
  },
  {
   "cell_type": "markdown",
   "id": "2266a927-14f4-4681-9f80-a7f4c115f8ba",
   "metadata": {
    "tags": []
   },
   "source": [
    "<h3>Q8. Create a function that can intake integer or decimal value and do following operations:</h3>\n",
    "<h4>a. Logarithmic function (log x)</h4>"
   ]
  },
  {
   "cell_type": "code",
   "execution_count": 6,
   "id": "0f4c76af-b602-476a-a107-56c6d13a09e3",
   "metadata": {
    "tags": []
   },
   "outputs": [
    {
     "name": "stdout",
     "output_type": "stream",
     "text": [
      "3\n"
     ]
    }
   ],
   "source": [
    "def log(x, base):\n",
    "    result = 0\n",
    "    while x >= base:\n",
    "        x /= base\n",
    "        result += 1\n",
    "    \n",
    "    return (result)\n",
    "\n",
    "# Test the function\n",
    "\n",
    "print(log(1000, 10)) "
   ]
  },
  {
   "cell_type": "markdown",
   "id": "d07aa9ab-d839-42c6-91b3-ee1a108eb585",
   "metadata": {
    "tags": []
   },
   "source": [
    "#### b. Exponential"
   ]
  },
  {
   "cell_type": "code",
   "execution_count": 38,
   "id": "f8833d1a-42bb-44ee-a560-6d17229675a1",
   "metadata": {
    "tags": []
   },
   "outputs": [
    {
     "data": {
      "text/plain": [
       "20.085536923187664"
      ]
     },
     "execution_count": 38,
     "metadata": {},
     "output_type": "execute_result"
    }
   ],
   "source": [
    "e = 2.718281828459045\n",
    "def exp(a):\n",
    "    return e ** a\n",
    "\n",
    "exp(3)\n"
   ]
  },
  {
   "cell_type": "markdown",
   "id": "852a0fc1-70c3-485e-9fc3-98655cc16ae1",
   "metadata": {},
   "source": [
    "<h4>c. Power function with base 2 (2^x):</h4>"
   ]
  },
  {
   "cell_type": "code",
   "execution_count": 4,
   "id": "0194939f-7352-4ae3-98cb-cd8964d7f6a6",
   "metadata": {
    "tags": []
   },
   "outputs": [
    {
     "data": {
      "text/plain": [
       "32"
      ]
     },
     "execution_count": 4,
     "metadata": {},
     "output_type": "execute_result"
    }
   ],
   "source": [
    "def powerfunc(x):\n",
    "    power = 2**x\n",
    "    return power\n",
    "powerfunc(5)"
   ]
  },
  {
   "cell_type": "markdown",
   "id": "e9548071-5df0-4926-aa9a-de4a3397ef47",
   "metadata": {},
   "source": [
    "<h4>d. Square root </h4>"
   ]
  },
  {
   "cell_type": "code",
   "execution_count": 30,
   "id": "44f8b21e-8dc1-4f5a-b33e-23ba7eeaa8d4",
   "metadata": {
    "tags": []
   },
   "outputs": [
    {
     "data": {
      "text/plain": [
       "9.33"
      ]
     },
     "execution_count": 30,
     "metadata": {},
     "output_type": "execute_result"
    }
   ],
   "source": [
    "def sqrroot(x):\n",
    "    squareroot = x ** 0.5\n",
    "    return round(squareroot,2)\n",
    "sqrroot(87)"
   ]
  },
  {
   "cell_type": "markdown",
   "id": "47b0635e-3f37-477a-a236-82751e9a625a",
   "metadata": {},
   "source": [
    "### 9. Create a function that takes a full name as an argument and returns first name and last name."
   ]
  },
  {
   "cell_type": "code",
   "execution_count": 31,
   "id": "902d31c6-0987-4a90-b290-cb66be82bb86",
   "metadata": {
    "tags": []
   },
   "outputs": [
    {
     "name": "stdout",
     "output_type": "stream",
     "text": [
      "Rohit Sharma\n"
     ]
    }
   ],
   "source": [
    "def my_function(fname):\n",
    "    print(fname + \" Sharma\")\n",
    "my_function(\"Rohit\")"
   ]
  },
  {
   "cell_type": "code",
   "execution_count": null,
   "id": "7c8ac218-4135-4ac3-ba00-a5a5c16dddc7",
   "metadata": {},
   "outputs": [],
   "source": []
  }
 ],
 "metadata": {
  "kernelspec": {
   "display_name": "Python 3 (ipykernel)",
   "language": "python",
   "name": "python3"
  },
  "language_info": {
   "codemirror_mode": {
    "name": "ipython",
    "version": 3
   },
   "file_extension": ".py",
   "mimetype": "text/x-python",
   "name": "python",
   "nbconvert_exporter": "python",
   "pygments_lexer": "ipython3",
   "version": "3.11.3"
  }
 },
 "nbformat": 4,
 "nbformat_minor": 5
}
