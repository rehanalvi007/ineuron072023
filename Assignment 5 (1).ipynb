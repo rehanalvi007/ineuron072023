{
 "cells": [
  {
   "cell_type": "markdown",
   "id": "78cc611d-ae70-4f65-8d7b-86b1e04a3a6c",
   "metadata": {},
   "source": [
    "# Assignment_5"
   ]
  },
  {
   "cell_type": "markdown",
   "id": "930bb80a-8638-44a7-8de9-10004523dc12",
   "metadata": {},
   "source": [
    "### Q1 - 1.\tWhat does an empty dictionary's code look like?\n"
   ]
  },
  {
   "cell_type": "raw",
   "id": "3db2555e-58d6-40f3-95b7-878d6015f8e0",
   "metadata": {},
   "source": [
    "## Ans- In an empty dictionary’s code there is no element in curly bracket.\n",
    "Example -\n",
    "\n"
   ]
  },
  {
   "cell_type": "code",
   "execution_count": 5,
   "id": "8a90bc5d-bd0c-4513-92a5-1152dab32a93",
   "metadata": {},
   "outputs": [
    {
     "name": "stdout",
     "output_type": "stream",
     "text": [
      "{}\n",
      "<class 'dict'>\n"
     ]
    }
   ],
   "source": [
    "# {} symbol to initialize dictionary\n",
    "Emp_dict = {}\n",
    "print(Emp_dict)\n",
    "print(type(Emp_dict))   # print type\n"
   ]
  },
  {
   "cell_type": "markdown",
   "id": "0e22c092-6359-4ef3-8c0a-1f1aac7e384e",
   "metadata": {},
   "source": [
    "### Q2 - What is the value of a dictionary value with the key 'foo' and the value 42?"
   ]
  },
  {
   "cell_type": "raw",
   "id": "2fd68f7a-c05d-450c-a6cd-2f3c693a29f0",
   "metadata": {},
   "source": [
    "Ans - 42 will be the value\n",
    "Example -"
   ]
  },
  {
   "cell_type": "code",
   "execution_count": 8,
   "id": "dabaa59f-9a99-40dc-a420-c00acaf7a4ec",
   "metadata": {},
   "outputs": [
    {
     "name": "stdout",
     "output_type": "stream",
     "text": [
      "{'foo': 42}\n",
      "42\n"
     ]
    }
   ],
   "source": [
    "dict = {'foo':42}\n",
    "print(dict)\n",
    "print(dict['foo'])"
   ]
  },
  {
   "cell_type": "markdown",
   "id": "2b78fae7-45d3-45c0-890c-ed887e26c2e5",
   "metadata": {},
   "source": [
    "### Q3- What is the most significant distinction between a dictionary and a list?"
   ]
  },
  {
   "cell_type": "raw",
   "id": "b598bd07-7868-48a4-ae06-92372b1ef6c8",
   "metadata": {},
   "source": [
    "Ans-The most significant distinction between a dictionary and a list is:-\n",
    "    List is ordered and allows duplicate values while Dictionary is unordered and does'nt allows duplicate\n",
    "    values with the same key in it."
   ]
  },
  {
   "cell_type": "markdown",
   "id": "2e1b0056-0e1d-461c-b022-412fa0b60bac",
   "metadata": {},
   "source": [
    "### Q4 - What happens if you try to access spam['foo'] if spam is {'bar': 100}?"
   ]
  },
  {
   "cell_type": "raw",
   "id": "3e312331-3b48-4b51-89d0-74ea237f5305",
   "metadata": {},
   "source": [
    "Ans - It will give KeyError if we try to access spam['foo']\n",
    "Example:-"
   ]
  },
  {
   "cell_type": "code",
   "execution_count": 15,
   "id": "e0b0b86e-bd51-40b6-b11c-0b420aec22f4",
   "metadata": {},
   "outputs": [
    {
     "ename": "KeyError",
     "evalue": "'foo'",
     "output_type": "error",
     "traceback": [
      "\u001b[1;31m---------------------------------------------------------------------------\u001b[0m",
      "\u001b[1;31mKeyError\u001b[0m                                  Traceback (most recent call last)",
      "\u001b[1;32m~\\AppData\\Local\\Temp\\ipykernel_6352\\4026577702.py\u001b[0m in \u001b[0;36m<module>\u001b[1;34m\u001b[0m\n\u001b[0;32m      1\u001b[0m \u001b[0mspam\u001b[0m \u001b[1;33m=\u001b[0m \u001b[1;33m{\u001b[0m\u001b[1;34m'bar'\u001b[0m\u001b[1;33m:\u001b[0m\u001b[1;36m100\u001b[0m\u001b[1;33m}\u001b[0m\u001b[1;33m\u001b[0m\u001b[1;33m\u001b[0m\u001b[0m\n\u001b[1;32m----> 2\u001b[1;33m \u001b[0mspam\u001b[0m\u001b[1;33m[\u001b[0m\u001b[1;34m'foo'\u001b[0m\u001b[1;33m]\u001b[0m\u001b[1;33m\u001b[0m\u001b[1;33m\u001b[0m\u001b[0m\n\u001b[0m",
      "\u001b[1;31mKeyError\u001b[0m: 'foo'"
     ]
    }
   ],
   "source": [
    "spam = {'bar':100}\n",
    "spam['foo']"
   ]
  },
  {
   "cell_type": "markdown",
   "id": "8d7f75f8-c092-4f0e-aeea-3fd99375c432",
   "metadata": {},
   "source": [
    "### Q5- . If a dictionary is stored in spam, what is the difference between the expressions 'cat' in spam and 'cat' in spam.keys()?"
   ]
  },
  {
   "cell_type": "raw",
   "id": "0142f4fd-0a16-48c5-862b-b49879de4f8a",
   "metadata": {},
   "source": [
    "Ans- There is no difference between expressions 'cat' in spam and 'cat' in spam.keys() because 'cat' is keys of dict.\n",
    "For Example:-"
   ]
  },
  {
   "cell_type": "code",
   "execution_count": 18,
   "id": "ce46b25c-85a1-4248-a4f2-e3f2e173dc77",
   "metadata": {},
   "outputs": [
    {
     "data": {
      "text/plain": [
       "True"
      ]
     },
     "execution_count": 18,
     "metadata": {},
     "output_type": "execute_result"
    }
   ],
   "source": [
    "spam = {'cat':100}\n",
    "'cat' in spam"
   ]
  },
  {
   "cell_type": "code",
   "execution_count": 19,
   "id": "bc542b73-6603-4976-83f6-22c319918351",
   "metadata": {},
   "outputs": [
    {
     "data": {
      "text/plain": [
       "True"
      ]
     },
     "execution_count": 19,
     "metadata": {},
     "output_type": "execute_result"
    }
   ],
   "source": [
    "'cat' in spam.keys()"
   ]
  },
  {
   "cell_type": "markdown",
   "id": "3a996005-ef18-458f-8f4d-b2a37bd25e8e",
   "metadata": {},
   "source": [
    "###  Q6-If a dictionary is stored in spam, what is the difference between the expressions 'cat' in spam and 'cat' in spam.values()?"
   ]
  },
  {
   "cell_type": "code",
   "execution_count": 21,
   "id": "68144f0b-2e81-403d-8214-66368a0386db",
   "metadata": {},
   "outputs": [
    {
     "data": {
      "text/plain": [
       "True"
      ]
     },
     "execution_count": 21,
     "metadata": {},
     "output_type": "execute_result"
    }
   ],
   "source": [
    "spam = {'cat':100}\n",
    "'cat' in spam"
   ]
  },
  {
   "cell_type": "raw",
   "id": "f305c1b0-c900-4fd2-a6ec-ccb06eba3d39",
   "metadata": {},
   "source": [
    "Ans- 'cat' in spam checks whether 'cat' is key in dictionary\n",
    "      as 'cat' is key so it is showing True"
   ]
  },
  {
   "cell_type": "code",
   "execution_count": 20,
   "id": "44f1856c-ac9a-471f-a1c9-2dbc907d709e",
   "metadata": {},
   "outputs": [
    {
     "data": {
      "text/plain": [
       "False"
      ]
     },
     "execution_count": 20,
     "metadata": {},
     "output_type": "execute_result"
    }
   ],
   "source": [
    "'cat' in spam.values()"
   ]
  },
  {
   "cell_type": "raw",
   "id": "ce3135c3-ca59-4c56-8385-7b833ffeda44",
   "metadata": {},
   "source": [
    "Here 'cat' in spam.values() is checking 'cat' as value in dictionary.\n",
    "But 'cat' is key so it is showing False"
   ]
  },
  {
   "cell_type": "markdown",
   "id": "b2f4a150-2a68-44b2-9180-6e60e17f620a",
   "metadata": {},
   "source": [
    "### Q7- What is a shortcut for the following code?\n",
    "if 'color' not in spam:\n",
    "spam['color'] = 'black'\n"
   ]
  },
  {
   "cell_type": "code",
   "execution_count": 23,
   "id": "53af780a-9967-48bd-b6d8-e48e6d48dbc1",
   "metadata": {},
   "outputs": [
    {
     "data": {
      "text/plain": [
       "{'cat': 100, 'color': 'black'}"
      ]
     },
     "execution_count": 23,
     "metadata": {},
     "output_type": "execute_result"
    }
   ],
   "source": [
    "spam = {'cat':100}\n",
    "spam.setdefault('color','black')\n",
    "spam\n"
   ]
  },
  {
   "cell_type": "markdown",
   "id": "fb9542cc-e17e-405d-b1d0-c21272af7be9",
   "metadata": {},
   "source": [
    "### Q8-How do you \"pretty print\" dictionary values using which module and function?"
   ]
  },
  {
   "cell_type": "code",
   "execution_count": 27,
   "id": "bccfb14b-0385-4ea1-b8c3-7c2075cace0a",
   "metadata": {},
   "outputs": [
    {
     "name": "stdout",
     "output_type": "stream",
     "text": [
      "[{'age': 28,\n",
      "  'books': ['Raj comics', 'Nagraj'],\n",
      "  'gender': 'male',\n",
      "  'name': 'rehan'},\n",
      " {'age': 31,\n",
      "  'books': ['Harry Potter', 'Lord of the Rings'],\n",
      "  'gender': 'male',\n",
      "  'name': 'Nik'}]\n"
     ]
    }
   ],
   "source": [
    "# Pretty Print a Dictionary using pprint\n",
    "import pprint\n",
    "\n",
    "sample_dict = [{'name': 'rehan', 'age': 28, 'gender': 'male', 'books': ['Raj comics', 'Nagraj']},\n",
    "              {'name': 'Nik', 'age': 31, 'gender': 'male', 'books': ['Harry Potter', 'Lord of the Rings']}]\n",
    "pprint.pprint(sample_dict)\n",
    "\n"
   ]
  },
  {
   "cell_type": "code",
   "execution_count": 28,
   "id": "e889c0fa-f872-4e5b-905d-4d294b2fdc4c",
   "metadata": {},
   "outputs": [
    {
     "name": "stdout",
     "output_type": "stream",
     "text": [
      "[{'name': 'rehan', 'age': 28, 'gender': 'male', 'books': ['Raj comics', 'Nagraj']}, {'name': 'Nik', 'age': 31, 'gender': 'male', 'books': ['Harry Potter', 'Lord of the Rings']}]\n"
     ]
    }
   ],
   "source": [
    "# Printing with print()\n",
    "print(sample_dict)"
   ]
  },
  {
   "cell_type": "code",
   "execution_count": null,
   "id": "16daaabf-0872-4b39-a30a-0c613d674993",
   "metadata": {},
   "outputs": [],
   "source": []
  }
 ],
 "metadata": {
  "kernelspec": {
   "display_name": "Python 3 (ipykernel)",
   "language": "python",
   "name": "python3"
  },
  "language_info": {
   "codemirror_mode": {
    "name": "ipython",
    "version": 3
   },
   "file_extension": ".py",
   "mimetype": "text/x-python",
   "name": "python",
   "nbconvert_exporter": "python",
   "pygments_lexer": "ipython3",
   "version": "3.9.13"
  }
 },
 "nbformat": 4,
 "nbformat_minor": 5
}
