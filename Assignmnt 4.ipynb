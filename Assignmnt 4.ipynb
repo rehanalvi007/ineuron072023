{
 "cells": [
  {
   "cell_type": "markdown",
   "id": "23fd9f22-d00d-4383-99cf-9b8d51222942",
   "metadata": {},
   "source": [
    "# Assignment 4"
   ]
  },
  {
   "cell_type": "markdown",
   "id": "11047386-6ea4-4def-b147-6188424a3c6f",
   "metadata": {},
   "source": [
    "### 1. What exactly is []?"
   ]
  },
  {
   "cell_type": "code",
   "execution_count": 1,
   "id": "c1aaa668-b931-4aae-b00b-d8ccf21f3879",
   "metadata": {},
   "outputs": [
    {
     "data": {
      "text/plain": [
       "list"
      ]
     },
     "execution_count": 1,
     "metadata": {},
     "output_type": "execute_result"
    }
   ],
   "source": [
    "#Ans - This is basically empty list\n",
    "L1 = []\n",
    "type(L1)\n"
   ]
  },
  {
   "cell_type": "markdown",
   "id": "ad501873-317d-4c39-b63c-913dcd3ee579",
   "metadata": {},
   "source": [
    "### 2. In a list of values stored in a variable called spam, how would you assign the value &#39;hello&#39; as the third value? (Assume [2, 4, 6, 8, 10] are in spam.)"
   ]
  },
  {
   "cell_type": "code",
   "execution_count": 2,
   "id": "5433c734-002a-41b3-8543-73d9b275da69",
   "metadata": {},
   "outputs": [
    {
     "data": {
      "text/plain": [
       "[2, 4, 'hello', 8, 10]"
      ]
     },
     "execution_count": 2,
     "metadata": {},
     "output_type": "execute_result"
    }
   ],
   "source": [
    "#Ans\n",
    "spam1 = [2,4,6,8,10]\n",
    "spam1[2]=\"hello\"\n",
    "spam1"
   ]
  },
  {
   "cell_type": "code",
   "execution_count": 3,
   "id": "5d62c738-023e-43b6-9f60-6d2663f2a441",
   "metadata": {},
   "outputs": [
    {
     "data": {
      "text/plain": [
       "[2, 4, 'Hello', 6, 8, 10]"
      ]
     },
     "execution_count": 3,
     "metadata": {},
     "output_type": "execute_result"
    }
   ],
   "source": [
    "#Or by using insert\n",
    "spam2=[2,4,6,8,10]\n",
    "spam2.insert(2,\"Hello\")\n",
    "spam2"
   ]
  },
  {
   "cell_type": "markdown",
   "id": "0aba0701-c7ba-48eb-8096-659e230f7208",
   "metadata": {},
   "source": [
    "#### Let&#39;s pretend the spam includes the list [&#39;a&#39;, &#39;b&#39;, &#39;c&#39;, &#39;d&#39;] for the next three queries."
   ]
  },
  {
   "cell_type": "markdown",
   "id": "ffa9a285-db38-4a20-9336-ba33ea3030e3",
   "metadata": {},
   "source": [
    "### 3. What is the value of spam[int(int(&#39;3&#39; * 2) / 11)]?"
   ]
  },
  {
   "cell_type": "code",
   "execution_count": 4,
   "id": "7cf6af9d-7704-43f0-b026-747fa22203a2",
   "metadata": {},
   "outputs": [
    {
     "data": {
      "text/plain": [
       "'d'"
      ]
     },
     "execution_count": 4,
     "metadata": {},
     "output_type": "execute_result"
    }
   ],
   "source": [
    "spam = ['a','b','c','d']\n",
    "spam[int(int('3'*2)/11)]"
   ]
  },
  {
   "cell_type": "markdown",
   "id": "727a692d-b975-4929-85c1-8625be17d81f",
   "metadata": {},
   "source": [
    "### 4. What is the value of spam[-1]?"
   ]
  },
  {
   "cell_type": "code",
   "execution_count": 5,
   "id": "078fc988-db99-443a-8b3f-51e3273731f6",
   "metadata": {},
   "outputs": [
    {
     "data": {
      "text/plain": [
       "'d'"
      ]
     },
     "execution_count": 5,
     "metadata": {},
     "output_type": "execute_result"
    }
   ],
   "source": [
    "# 'd' will be the value of spam[-1]\n",
    "spam = ['a','b','c','d']\n",
    "spam[-1]"
   ]
  },
  {
   "cell_type": "markdown",
   "id": "22526488-98b8-43d2-a692-e93b0e54a02d",
   "metadata": {},
   "source": [
    "### 5. What is the value of spam[:2]?"
   ]
  },
  {
   "cell_type": "code",
   "execution_count": 6,
   "id": "fbbe4614-1cf0-4e86-b833-e1ba35ee04b9",
   "metadata": {},
   "outputs": [
    {
     "data": {
      "text/plain": [
       "['a', 'b']"
      ]
     },
     "execution_count": 6,
     "metadata": {},
     "output_type": "execute_result"
    }
   ],
   "source": [
    "spam = ['a','b','c','d']\n",
    "spam[:2]"
   ]
  },
  {
   "cell_type": "markdown",
   "id": "b58f1ec8-7116-41a2-a6e8-5a97d05b9fa9",
   "metadata": {},
   "source": [
    "#### Let&#39;s pretend bacon has the list [3.14, &#39;cat,&#39; 11, &#39;cat,&#39; True] for the next three questions."
   ]
  },
  {
   "cell_type": "markdown",
   "id": "8d29ad75-6892-46a9-bfc7-d02a7f31998e",
   "metadata": {},
   "source": [
    "### 6. What is the value of bacon.index(&#39;cat&#39;)?"
   ]
  },
  {
   "cell_type": "code",
   "execution_count": 7,
   "id": "ca221f0f-81a7-4cf6-a64f-09353ab4e9fe",
   "metadata": {},
   "outputs": [
    {
     "data": {
      "text/plain": [
       "1"
      ]
     },
     "execution_count": 7,
     "metadata": {},
     "output_type": "execute_result"
    }
   ],
   "source": [
    "bacon = [3.14, 'cat', 11, 'cat', True]\n",
    "bacon.index('cat')"
   ]
  },
  {
   "cell_type": "markdown",
   "id": "46220da3-7103-498f-8a6d-47f052bc1ca4",
   "metadata": {},
   "source": [
    "### 7. How does bacon.append(99) change the look of the list value in bacon?"
   ]
  },
  {
   "cell_type": "code",
   "execution_count": 9,
   "id": "5faf4677-6081-4d3a-aeef-5078b2b9a912",
   "metadata": {},
   "outputs": [
    {
     "data": {
      "text/plain": [
       "[3.14, 'cat', 11, 'cat', True, 99]"
      ]
     },
     "execution_count": 9,
     "metadata": {},
     "output_type": "execute_result"
    }
   ],
   "source": [
    "bacon = [3.14, 'cat', 11, 'cat', True]\n",
    "bacon.append(99)\n",
    "bacon                   # It adds or appends 99 in the last of the list"
   ]
  },
  {
   "cell_type": "markdown",
   "id": "8efc70b5-fd41-4ea6-a0c1-ef388027f7f4",
   "metadata": {},
   "source": [
    "### 8. How does bacon.remove(&#39;cat&#39;) change the look of the list in bacon?"
   ]
  },
  {
   "cell_type": "code",
   "execution_count": 12,
   "id": "edb4cd98-247e-4ea3-8430-ed10dc25b894",
   "metadata": {},
   "outputs": [
    {
     "data": {
      "text/plain": [
       "[3.14, 11, 'cat', True]"
      ]
     },
     "execution_count": 12,
     "metadata": {},
     "output_type": "execute_result"
    }
   ],
   "source": [
    "bacon = [3.14, 'cat', 11, 'cat', True]\n",
    "bacon.remove('cat')\n",
    "bacon"
   ]
  },
  {
   "cell_type": "markdown",
   "id": "f77a5907-a705-4279-abe7-6d4dd3feac57",
   "metadata": {},
   "source": [
    "### 9. What are the list concatenation and list replication operators?"
   ]
  },
  {
   "cell_type": "raw",
   "id": "f38a7cb0-a5a8-4a95-9194-6b7872f58aaa",
   "metadata": {},
   "source": [
    "ANS :- \n",
    "The '+' operator is the operator for list concatenation while '*' operator is for replication."
   ]
  },
  {
   "cell_type": "markdown",
   "id": "98149946-d799-4415-b3cc-f99186a6f2f1",
   "metadata": {},
   "source": [
    "### 10. What is difference between the list methods append() and insert()?"
   ]
  },
  {
   "cell_type": "raw",
   "id": "2f026cb6-bef8-4094-b58e-79f55a569d32",
   "metadata": {},
   "source": [
    "Ans-Append() adds an element at the end of the list while insert() adds value at desired position.\n",
    "Example\n"
   ]
  },
  {
   "cell_type": "code",
   "execution_count": 15,
   "id": "e6846ae2-21bd-45e0-9519-a18a0c7ea2ec",
   "metadata": {},
   "outputs": [
    {
     "data": {
      "text/plain": [
       "['python', 'SQL', 'Power BI', 'machine learning']"
      ]
     },
     "execution_count": 15,
     "metadata": {},
     "output_type": "execute_result"
    }
   ],
   "source": [
    "# append method\n",
    "l = ['python','SQL','Power BI']\n",
    "l.append('machine learning')\n",
    "l"
   ]
  },
  {
   "cell_type": "code",
   "execution_count": 17,
   "id": "29808afb-1181-4145-abad-5aa89a889ece",
   "metadata": {},
   "outputs": [
    {
     "data": {
      "text/plain": [
       "['python', 'SQL', 'machine learning', 'Power BI']"
      ]
     },
     "execution_count": 17,
     "metadata": {},
     "output_type": "execute_result"
    }
   ],
   "source": [
    "# insert method\n",
    "l = ['python','SQL','Power BI']\n",
    "l.insert(2,'machine learning')\n",
    "l"
   ]
  },
  {
   "cell_type": "markdown",
   "id": "20543f75-deee-4863-8dfa-772ef2b5ed37",
   "metadata": {},
   "source": [
    "### 11. What are the two methods for removing items from a list?"
   ]
  },
  {
   "cell_type": "raw",
   "id": "6eff80ef-8eab-4b32-b683-ec6f5797430f",
   "metadata": {},
   "source": [
    "We can remove an item from the list by \n",
    "1. list.remove()\n",
    "2. list.pop()\n"
   ]
  },
  {
   "cell_type": "markdown",
   "id": "232278ca-fdb7-4c04-9c44-767385340cb9",
   "metadata": {},
   "source": [
    "### 12. Describe how list values and string values are identical."
   ]
  },
  {
   "cell_type": "markdown",
   "id": "33347311-8cd5-4648-9e14-01a98c96e7ee",
   "metadata": {},
   "source": [
    "Ans - The values that make up a list are called its elements. Lists are similar to strings, \n",
    "which are ordered collections of characters, except that the elements of a list can have any type\n",
    "and for any one list, the items can be of different types."
   ]
  },
  {
   "cell_type": "markdown",
   "id": "02efbea8-95bd-4231-80bd-d608276319c3",
   "metadata": {},
   "source": [
    "### 13. What&#39;s the difference between tuples and lists?"
   ]
  },
  {
   "cell_type": "markdown",
   "id": "04a0dc5e-cc83-4d7f-93c3-694397d3191b",
   "metadata": {},
   "source": [
    "Ans =\n",
    "1. Lists are mutable while tuples are immutable.\n",
    "2. Lists consume more memory  while tuples takes less memory compared to lists.\n",
    "3. Elements in list is in square bracket[] while elements in tuples is in round () bracket\n",
    "4. Lists have several built-in methods while Tuple does not have many built-in methods."
   ]
  },
  {
   "cell_type": "markdown",
   "id": "87bc20c2-d5fa-4894-b034-49129bd712c4",
   "metadata": {},
   "source": [
    "### 14. How do you type a tuple value that only contains the integer 42?"
   ]
  },
  {
   "cell_type": "code",
   "execution_count": 28,
   "id": "3ed03a39-1b2f-4b27-b06c-56cba6a4e5ba",
   "metadata": {},
   "outputs": [
    {
     "data": {
      "text/plain": [
       "tuple"
      ]
     },
     "execution_count": 28,
     "metadata": {},
     "output_type": "execute_result"
    }
   ],
   "source": [
    "t = (42,)    # comma after value is necessary for single value otherwise it will create integer type value\n",
    "type(t)\n"
   ]
  },
  {
   "cell_type": "markdown",
   "id": "3f3bfa6f-04fe-4e1c-8937-a14b45e94ff1",
   "metadata": {},
   "source": [
    "### 15. How do you get a list value&#39;s tuple form? How do you get a tuple value&#39;s list form?"
   ]
  },
  {
   "cell_type": "markdown",
   "id": "b5a1ab7d-8aa6-4bb5-b903-c85e8aa633ee",
   "metadata": {},
   "source": [
    "Ans = Using tuple(list_name). Typecasting to tuple can be done by simply using tuple(list_name). \n",
    "The built-in Python list() function is used to create a list. Pass the tuple as an argument to the list(tuple_) function \n",
    "to create a list with the tuple elements."
   ]
  },
  {
   "cell_type": "markdown",
   "id": "d4a29494-b863-4503-a5e2-2f4d7bcfa45d",
   "metadata": {},
   "source": [
    "### 16. Variables that &quot;contain&quot; list values are not necessarily lists themselves. Instead, what do they contain?"
   ]
  },
  {
   "cell_type": "code",
   "execution_count": 35,
   "id": "a45f2353-a06c-4f79-8c56-f7d641349b70",
   "metadata": {},
   "outputs": [
    {
     "data": {
      "text/plain": [
       "list"
      ]
     },
     "execution_count": 35,
     "metadata": {},
     "output_type": "execute_result"
    }
   ],
   "source": [
    "#Ans It may contain int, str, tuple, float and etc.\n",
    "list = [67,\"rehan\",(42,),34.5]\n",
    "type(list)"
   ]
  },
  {
   "cell_type": "markdown",
   "id": "e2aad5c1-9a34-4a04-ad48-273f941d1dd4",
   "metadata": {},
   "source": [
    "### 17. How do you distinguish between copy.copy() and copy.deepcopy()?"
   ]
  },
  {
   "cell_type": "raw",
   "id": "e7eb2823-436c-46d0-8375-6ed07f04b22d",
   "metadata": {},
   "source": [
    "# Ans -  The copy() returns a shallow copy of the list, and deepcopy() returns a deep copy of the list.\n",
    "         we can modify the elements in the copy while that's not possible in deep copy.\n"
   ]
  }
 ],
 "metadata": {
  "kernelspec": {
   "display_name": "Python 3 (ipykernel)",
   "language": "python",
   "name": "python3"
  },
  "language_info": {
   "codemirror_mode": {
    "name": "ipython",
    "version": 3
   },
   "file_extension": ".py",
   "mimetype": "text/x-python",
   "name": "python",
   "nbconvert_exporter": "python",
   "pygments_lexer": "ipython3",
   "version": "3.9.13"
  }
 },
 "nbformat": 4,
 "nbformat_minor": 5
}
