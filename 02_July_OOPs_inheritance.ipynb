{
 "cells": [
  {
   "cell_type": "markdown",
   "id": "8f8247b0-c5aa-4d51-9115-cd69fcac9c3e",
   "metadata": {},
   "source": [
    "# Assignment - 13"
   ]
  },
  {
   "cell_type": "markdown",
   "id": "e245d6c6-f24c-41b7-b5bf-ff8adeb843b0",
   "metadata": {},
   "source": [
    "<h3>Q1. Explain what inheritance is in object-oriented programming and why it is used?</h3>\n",
    "<p><strong>Ans - </strong><code>Inheritance</code> in object-oriented programming allows a subclass to inherit properties and behaviors from a superclass. It promotes code reusability, abstraction, and flexibility. Subclasses can extend and override the functionality of the superclass, making the code organized and easier to maintain. It is a key concept that enables the creation of class hierarchies and supports the principle of polymorphism.<br>In Python, inheritance is used to create <code>class hierarchies</code> and promote <code>code reusability, abstraction, and polymorphism.</code> It allows a subclass to inherit attributes and methods from a superclass, avoiding code duplication and making the code more organized and maintainable."
   ]
  },
  {
   "cell_type": "markdown",
   "id": "064573ad-64a0-43a1-a5f0-45a2717f2df6",
   "metadata": {},
   "source": [
    "<h3>Q2. Discuss the concept of single inheritance and multiple inheritance, highlighting their\n",
    "differences and advantages.</h3>\n",
    "<p><strong>Ans - </strong><code>Single Inheritance -</code> Single Inheritance enables a derived class to inherit characteristics from a single parent class.</p>\n",
    "\n",
    "<code>Multiple Inheritance - </code> Multi level inheritance enables one derived class to inherit properties from more than one base class.\n",
    "\n",
    "<strong>Differences:</strong>\n",
    "\n",
    "<ol><li><strong>Number of Superclasses:</strong> The main difference between single and multiple inheritance is the number of superclasses a class can have. Single inheritance allows only one superclass, while multiple inheritance allows a class to have multiple superclasses.</li>\n",
    "\n",
    "<li><strong>Diamond Problem:</strong> One common issue with multiple inheritance is the Diamond Problem. It occurs when a class inherits from two or more classes that have a common ancestor. In such cases, conflicts may arise if the subclass attempts to call a method or access an attribute that is defined in multiple superclasses.</li>\n",
    "\n",
    "<li><strong>Complexity:</strong> Multiple inheritance can lead to more complex class hierarchies, which might be harder to understand and maintain compared to the simpler linear hierarchy of single inheritance.</li></ol>\n",
    "\n",
    "<li><strong>Advantages:</strong> Single inheritance is straightforward and prevents the Diamond Problem, while multiple inheritance allows for code reusability, rich class hierarchies, and greater flexibility in class design.</li>\n",
    "\n"
   ]
  },
  {
   "cell_type": "markdown",
   "id": "1b283ada-3e64-4b01-89e8-596d613c70c0",
   "metadata": {},
   "source": [
    "<h3>Q3. Explain the terms \"base class\" and \"derived class\" in the context of inheritance.</h3>\n",
    "\n",
    "<strong>Ans - Base Class:</strong>\n",
    "\n",
    "<ol><li>Also known as the \"superclass\" or \"parent class.\"</li>\n",
    "<li>It is the class that is being extended or inherited from.</li>\n",
    "<li>The base class defines common attributes and behaviors that are shared by one or more related classes.</li>\n",
    "<li>Other classes (derived classes) can reuse and extend the functionality of the base class by inheriting from it.</li>\n",
    "<li>The base class serves as a blueprint or template for its derived classes.</li></ol>\n",
    "<ol><strong>Derived Class:</strong>\n",
    "\n",
    "<li>Also known as the \"subclass\" or \"child class.\"</li>\n",
    "<li>It is the class that inherits properties and behaviors from the base class.</li>\n",
    "<li>A derived class is created by extending the base class using the syntax for inheritance provided by the programming language.</li>\n",
    "<li>The derived class can add its own attributes and methods on top of the ones inherited from the base class.</li>\n",
    "<li>It can override the methods of the base class to provide a specific implementation or extend the functionality.</li>"
   ]
  },
  {
   "cell_type": "markdown",
   "id": "1c5d6a58-3373-4abc-bf6e-4268c3393a91",
   "metadata": {},
   "source": [
    "<h3>Q4. What is the significance of the \"protected\" access modifier in inheritance? How does\n",
    "it differ from \"private\" and \"public\" modifiers?</h3>\n",
    "<p><strong>Ans -</strong> The significance of the \"protected\" access modifier in inheritance is to provide a mechanism for sharing information between a base class and its derived classes while restricting access to the outside world. It allows derived classes to access and extend the functionality of the base class, promoting code reusability and enabling the implementation of common behaviors in the base class that can be inherited by multiple subclasses.</p>\n",
    "<ul>Differences :\n",
    "<li>Public: Visible and accessible from anywhere.</li>\n",
    " <li>Private: Visible and accessible only within the same class.</li>\n",
    "<li>Protected: Visible and accessible within the same class and its subclasses (derived classes).</li>"
   ]
  },
  {
   "cell_type": "markdown",
   "id": "ada7b5b8-fffd-42ed-82a4-6d97118dd9de",
   "metadata": {},
   "source": [
    "<h3>Q5. What is the purpose of the \"super\" keyword in inheritance? Provide an example.</h3>\n",
    "<p><strong>Ans - </strong>The \"super\" keyword in inheritance is used to call a method or access an attribute from the superclass (base class) within a subclass (derived class). It allows the subclass to reuse and extend the functionality defined in the superclass. By using \"super,\" you can avoid duplicating code and maintain a clear hierarchy when overriding methods in the subclass.<br>\n",
    "The \"super\" keyword is especially useful when a method in the subclass needs to perform additional actions while still preserving the behavior defined in the superclass.</p>\n",
    "<strong>Example-</strong>"
   ]
  },
  {
   "cell_type": "code",
   "execution_count": 1,
   "id": "5e08c697-1d94-49d4-aa2b-84cd3da07a6b",
   "metadata": {
    "tags": []
   },
   "outputs": [
    {
     "name": "stdout",
     "output_type": "stream",
     "text": [
      "Animal sound.\n",
      "Animal sound. Woof!\n"
     ]
    }
   ],
   "source": [
    "class Animal:\n",
    "    def __init__(self, name):\n",
    "        self.name = name\n",
    "\n",
    "    def make_sound(self):\n",
    "        return \"Animal sound.\"\n",
    "\n",
    "class Dog(Animal):\n",
    "    def __init__(self, name, breed):\n",
    "        super().__init__(name)  # Calling the base class constructor\n",
    "        self.breed = breed\n",
    "\n",
    "    def make_sound(self):\n",
    "        base_sound = super().make_sound()  # Calling the make_sound() method of the base class\n",
    "        return f\"{base_sound} Woof!\"      # Extending the behavior of the base class method\n",
    "\n",
    "# Creating instances\n",
    "animal = Animal(\"Generic Animal\")\n",
    "dog = Dog(\"Buddy\", \"Labrador\")\n",
    "\n",
    "# Using the make_sound() method\n",
    "print(animal.make_sound())  # Output: animal sound.\n",
    "print(dog.make_sound())     # Output: Generic animal sound. Woof!\n"
   ]
  },
  {
   "cell_type": "markdown",
   "id": "9dd436b9-4d2a-4605-8fc1-4de479b34407",
   "metadata": {
    "tags": []
   },
   "source": [
    "<h3>6. Create a base class called \"Vehicle\" with attributes like \"make\", \"model\", and \"year\".\n",
    "Then, create a derived class called \"Car\" that inherits from \"Vehicle\" and adds an\n",
    "attribute called \"fuel_type\". Implement appropriate methods in both classes.</h3>"
   ]
  },
  {
   "cell_type": "code",
   "execution_count": 3,
   "id": "c6715276-992f-41fa-b0fb-8f037a3ac327",
   "metadata": {
    "tags": []
   },
   "outputs": [
    {
     "name": "stdout",
     "output_type": "stream",
     "text": [
      "Make: Toyota, Model: Corolla, Year: 2022\n",
      "Fuel Type: Petrol\n",
      "Make: Honda, Model: Civic, Year: 2021\n",
      "Fuel Type: Diesel\n"
     ]
    }
   ],
   "source": [
    "class Vehicle:\n",
    "    def __init__(self, make, model, year):\n",
    "        self.make = make\n",
    "        self.model = model\n",
    "        self.year = year\n",
    "\n",
    "    def display_info(self):\n",
    "        print(f\"Make: {self.make}, Model: {self.model}, Year: {self.year}\")\n",
    "\n",
    "class Car(Vehicle):\n",
    "    def __init__(self, make, model, year, fuel_type):\n",
    "        super().__init__(make, model, year)\n",
    "        self.fuel_type = fuel_type\n",
    "\n",
    "    def display_info(self):\n",
    "        super().display_info()\n",
    "        print(f\"Fuel Type: {self.fuel_type}\")\n",
    "\n",
    "# Creating instances of the Car class\n",
    "car1 = Car(\"Toyota\", \"Corolla\", 2022, \"Petrol\")\n",
    "car2 = Car(\"Honda\", \"Civic\", 2021, \"Diesel\")\n",
    "\n",
    "# Using the display_info method of the Car class\n",
    "car1.display_info()\n",
    "car2.display_info()\n"
   ]
  },
  {
   "cell_type": "markdown",
   "id": "ddb089ca-cce3-4272-9c61-4d5a8dbab498",
   "metadata": {},
   "source": [
    "<h3>7. Create a base class called \"Employee\" with attributes like \"name\" and \"salary.\"\n",
    "Derive two classes, \"Manager\" and \"Developer,\" from \"Employee.\" Add an additional\n",
    "attribute called \"department\" for the \"Manager\" class and \"programming_language\"\n",
    "for the \"Developer\" class.</h3>"
   ]
  },
  {
   "cell_type": "code",
   "execution_count": 4,
   "id": "0d997692-93f5-493a-9dc8-60435aafc90a",
   "metadata": {
    "tags": []
   },
   "outputs": [
    {
     "name": "stdout",
     "output_type": "stream",
     "text": [
      "Manager :\n",
      "Name: Rehan , Salary: 80000, Department: Sales\n",
      "\n",
      "Developer :\n",
      "Name: Rehan Alvi, Salary: 75000, Programming Language: Python\n"
     ]
    }
   ],
   "source": [
    "class Employee:\n",
    "    def __init__(self, name, salary):\n",
    "        self.name = name\n",
    "        self.salary = salary\n",
    "\n",
    "class Manager(Employee):\n",
    "    def __init__(self, name, salary, department):\n",
    "        super().__init__(name, salary)\n",
    "        self.department = department\n",
    "\n",
    "class Developer(Employee):\n",
    "    def __init__(self, name, salary, programming_language):\n",
    "        super().__init__(name, salary)\n",
    "        self.programming_language = programming_language\n",
    "\n",
    "# Creating instances of the Manager and Developer classes\n",
    "manager = Manager(\"Rehan \", 80000, \"Sales\")\n",
    "\n",
    "developer = Developer(\"Rehan Alvi\", 75000, \"Python\")\n",
    "\n",
    "# Displaying information for each employee\n",
    "print(\"Manager :\")\n",
    "print(f\"Name: {manager.name}, Salary: {manager.salary}, Department: {manager.department}\")\n",
    "\n",
    "\n",
    "\n",
    "print(\"\\nDeveloper :\")\n",
    "print(f\"Name: {developer.name}, Salary: {developer.salary}, Programming Language: {developer.programming_language}\")\n",
    "\n"
   ]
  },
  {
   "cell_type": "markdown",
   "id": "189b39a8-3a97-4ab9-8224-b10d1b1489d7",
   "metadata": {},
   "source": [
    "### 8. Design a base class called \"Shape\" with attributes like \"colour\" and \"border_width.\"Create derived classes, \"Rectangle\" and \"Circle,\" that inherit from \"Shape\" and add specific attributes like \"length\" and \"width\" for the \"Rectangle\" class and \"radius\" for the \"Circle\" class."
   ]
  },
  {
   "cell_type": "code",
   "execution_count": 5,
   "id": "ee3a63e5-dc3c-42d3-8a4e-aa34a2131d1c",
   "metadata": {
    "tags": []
   },
   "outputs": [
    {
     "name": "stdout",
     "output_type": "stream",
     "text": [
      "Rectangle:\n",
      "Colour: Blue, Border Width: 2, Length: 10, Width: 5\n",
      "\n",
      "Circle:\n",
      "Colour: Red, Border Width: 1, Radius: 7\n"
     ]
    }
   ],
   "source": [
    "class Shape:\n",
    "    def __init__(self, colour, border_width):\n",
    "        self.colour = colour\n",
    "        self.border_width = border_width\n",
    "\n",
    "class Rectangle(Shape):\n",
    "    def __init__(self, colour, border_width, length, width):\n",
    "        super().__init__(colour, border_width)\n",
    "        self.length = length\n",
    "        self.width = width\n",
    "\n",
    "class Circle(Shape):\n",
    "    def __init__(self, colour, border_width, radius):\n",
    "        super().__init__(colour, border_width)\n",
    "        self.radius = radius\n",
    "\n",
    "# Creating instances of the Rectangle and Circle classes\n",
    "rectangle = Rectangle(\"Blue\", 2, 10, 5)\n",
    "circle = Circle(\"Red\", 1, 7)\n",
    "\n",
    "# Displaying information for each shape\n",
    "print(\"Rectangle:\")\n",
    "print(f\"Colour: {rectangle.colour}, Border Width: {rectangle.border_width}, Length: {rectangle.length}, Width: {rectangle.width}\")\n",
    "\n",
    "print(\"\\nCircle:\")\n",
    "print(f\"Colour: {circle.colour}, Border Width: {circle.border_width}, Radius: {circle.radius}\")\n"
   ]
  },
  {
   "cell_type": "markdown",
   "id": "7be80cea-4360-4018-8af4-5fbb6ced1782",
   "metadata": {},
   "source": [
    "### 9. Create a base class called \"Device\" with attributes like \"brand\" and \"model.\" Derive two classes, \"Phone\" and \"Tablet,\" from \"Device.\" Add specific attributes like \"screen_size\" for the \"Phone\" class and \"battery_capacity\" for the \"Tablet\" class."
   ]
  },
  {
   "cell_type": "code",
   "execution_count": 6,
   "id": "fed7b7cf-6ecc-4e54-9876-98bf4a399532",
   "metadata": {
    "tags": []
   },
   "outputs": [
    {
     "name": "stdout",
     "output_type": "stream",
     "text": [
      "Phone:\n",
      "Brand: Apple, Model: iPhone 13, Screen Size: 6.1 inches\n",
      "\n",
      "Tablet:\n",
      "Brand: Samsung, Model: Galaxy Tab S7, Battery Capacity: 8000 mAh\n"
     ]
    }
   ],
   "source": [
    "class Device:\n",
    "    def __init__(self, brand, model):\n",
    "        self.brand = brand\n",
    "        self.model = model\n",
    "\n",
    "class Phone(Device):\n",
    "    def __init__(self, brand, model, screen_size):\n",
    "        super().__init__(brand, model)\n",
    "        self.screen_size = screen_size\n",
    "\n",
    "class Tablet(Device):\n",
    "    def __init__(self, brand, model, battery_capacity):\n",
    "        super().__init__(brand, model)\n",
    "        self.battery_capacity = battery_capacity\n",
    "\n",
    "# Creating instances of the Phone and Tablet classes\n",
    "phone = Phone(\"Apple\", \"iPhone 13\", 6.1)\n",
    "tablet = Tablet(\"Samsung\", \"Galaxy Tab S7\", \"8000 mAh\")\n",
    "\n",
    "# Displaying information for each device\n",
    "print(\"Phone:\")\n",
    "print(f\"Brand: {phone.brand}, Model: {phone.model}, Screen Size: {phone.screen_size} inches\")\n",
    "\n",
    "print(\"\\nTablet:\")\n",
    "print(f\"Brand: {tablet.brand}, Model: {tablet.model}, Battery Capacity: {tablet.battery_capacity}\")\n"
   ]
  },
  {
   "cell_type": "markdown",
   "id": "3d18d02c-cce6-4b3c-a661-28e1f441884a",
   "metadata": {},
   "source": [
    "### 10. Create a base class called \"BankAccount\" with attributes like \"account_number\" and\n",
    "\"balance.\" Derive two classes, \"SavingsAccount\" and \"CheckingAccount,\" from\n",
    "\"BankAccount.\" Add specific methods like \"calculate_interest\" for the\n",
    "\"SavingsAccount\" class and \"deduct_fees\" for the \"CheckingAccount\" class."
   ]
  }
 ],
 "metadata": {
  "kernelspec": {
   "display_name": "Python 3 (ipykernel)",
   "language": "python",
   "name": "python3"
  },
  "language_info": {
   "codemirror_mode": {
    "name": "ipython",
    "version": 3
   },
   "file_extension": ".py",
   "mimetype": "text/x-python",
   "name": "python",
   "nbconvert_exporter": "python",
   "pygments_lexer": "ipython3",
   "version": "3.11.3"
  }
 },
 "nbformat": 4,
 "nbformat_minor": 5
}
