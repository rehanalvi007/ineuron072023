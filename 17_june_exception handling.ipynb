{
 "cells": [
  {
   "cell_type": "markdown",
   "id": "6cda1f32-d39f-4848-8fc5-e86c2a3a4be4",
   "metadata": {},
   "source": [
    "# Assignment 10"
   ]
  },
  {
   "cell_type": "markdown",
   "id": "e3941050-61af-44ca-b725-2cc8c3571cfe",
   "metadata": {},
   "source": [
    "<h3>1. What is the role of try and exception block?</h3>\n",
    "<strong> Ans-</strong>\n",
    "<p>The role of the try and except block in Python is to handle exceptions and errors that might occur during the execution of code.<br> Exceptions are raised when something unexpected or erroneous happens in the program, and they can lead to the termination of the program if not handled properly.<br>\n",
    "    The <strong>try</strong> block lets you test a block of code for errors. The <strong>except</strong> block lets you handle the error. \n"
   ]
  },
  {
   "cell_type": "markdown",
   "id": "9b92a8fd-a944-4ac2-a0d3-62a1986958b8",
   "metadata": {
    "tags": []
   },
   "source": [
    "<h3>2. What is the syntax for a basic try-except block?</h3>\n"
   ]
  },
  {
   "cell_type": "code",
   "execution_count": 2,
   "id": "adf9c07d-d45e-477a-9aa2-324464ad7cb8",
   "metadata": {
    "tags": []
   },
   "outputs": [],
   "source": [
    "#The basic syntax for a try-except block in Python is as follows:\n",
    "try:\n",
    "    # Code that may raise an exception\n",
    "    # ...\n",
    "    pass\n",
    "except SomeExceptionType:\n",
    "    # Code to handle the exception of type SomeExceptionType\n",
    "    # ...\n",
    "    pass"
   ]
  },
  {
   "cell_type": "markdown",
   "id": "634f60b1-51a5-4260-9cca-1723248b3f7d",
   "metadata": {},
   "source": [
    "<h3>3. What happens if an exception occurs inside a try block and there is no matching\n",
    "except block?</h3>\n",
    "<strong> Ans-</strong>\n",
    "<p>If an exception occurs inside a try block, and there is no matching except block to handle that specific type of exception, the program will terminate, and an unhandled exception will be raised.<br> The Python interpreter will display an error message called a traceback, indicating the type of exception that occurred and the line of code where it happened."
   ]
  },
  {
   "cell_type": "markdown",
   "id": "00434024-3e4e-44e2-860f-05a183d76a71",
   "metadata": {},
   "source": [
    "<h3>4. What is the difference between using a bare except block and specifying a specific\n",
    "exception type?</h3>\n",
    "<strong> Ans-</strong>\n",
    "<strong>Bare except block:</strong>\n",
    "<p>A bare except block is written as (except:) without specifying any exception type. It catches all types of exceptions that occur in the corresponding try block, regardless of the type of the exception.<br>It can catch and handle any unexpected exception, preventing the program from crashing abruptly.<br>It provides a fallback mechanism to handle unexpected scenarios. <br> But the problem is it may hide specific exception types, making it difficult to debug issues as we won't know the exact type of exception that occurred.</p>\n",
    "<strong>Specific exception type:</strong>\n",
    "<p>In Python, specific exception types are classes that represent different types of errors or exceptional conditions that can occur during the execution of a program. <br>These exception classes are provided by Python's standard library and can also be custom-defined to handle specific scenarios.<br>Catching specific exception types gives you more control over the program's behavior and helps you handle errors more effectively.<br> It also helps you identify and fix issues more easily since the exact type of exception that occurred is known, making debugging more straightforward.<br>But the main problem is it only catches the specified exception type, so other types of exceptions are not caught and will need separate except blocks if you want to handle them.</p>\n"
   ]
  },
  {
   "cell_type": "markdown",
   "id": "72a10756-14af-40b6-8b22-1b4339bbd8db",
   "metadata": {},
   "source": [
    "<h3>5. Can you have nested try-except blocks in Python? If yes, then give an example.</h3>\n",
    "<strong>Ans-</strong>\n",
    "<p>Yes we can have nested try-except blocks in Python. <br>In this case, if an exception is raised in the nested try block, the nested except block is used to handle it.<br> In case the nested except is not able to handle it, the outer except blocks are used to handle the exception.</p>\n"
   ]
  },
  {
   "cell_type": "code",
   "execution_count": 3,
   "id": "a74dd156-6ab1-4da1-970c-167e70cf1a9d",
   "metadata": {
    "tags": []
   },
   "outputs": [
    {
     "name": "stdout",
     "output_type": "stream",
     "text": [
      "outer try block\n",
      "nested try block\n",
      "outer except block\n",
      "division by zero\n"
     ]
    }
   ],
   "source": [
    "#Example of nested try-except blocks\n",
    "x = 10\n",
    "y = 0\n",
    " \n",
    "try:\n",
    "    print(\"outer try block\")\n",
    "    try:\n",
    "        print(\"nested try block\")\n",
    "        print(x / y)\n",
    "    except TypeError as te:\n",
    "        print(\"nested except block\")\n",
    "        print(te)\n",
    "except ZeroDivisionError as ze:\n",
    "    print(\"outer except block\")\n",
    "    print(ze)"
   ]
  },
  {
   "cell_type": "markdown",
   "id": "a368a0ed-dc2f-48d8-80db-a4a5ff411c82",
   "metadata": {},
   "source": [
    "<h3>6. Can we use multiple exception blocks, if yes then give an example.</h3>\n",
    "<strong>Ans-</strong>\n",
    "<p>Yes, we can use multiple except blocks to handle different types of exceptions in Python. Having multiple except blocks allows us to provide specific error handling for various exception types, making our code more robust and tailored to handle different scenarios."
   ]
  },
  {
   "cell_type": "code",
   "execution_count": 9,
   "id": "8dbb2aed-6b5e-4a25-9653-f47f0ed3f521",
   "metadata": {
    "tags": []
   },
   "outputs": [
    {
     "name": "stdin",
     "output_type": "stream",
     "text": [
      "Please enter the numerator:  56\n",
      "Please enter the denominator:  .5\n"
     ]
    },
    {
     "name": "stdout",
     "output_type": "stream",
     "text": [
      "Please enter valid integers for the numerator and denominator.\n"
     ]
    }
   ],
   "source": [
    "# Test the function with different inputs\n",
    "\n",
    "try:\n",
    "    n = int(input(\"Please enter the numerator: \"))\n",
    "    d = int(input(\"Please enter the denominator: \"))\n",
    "\n",
    "    result = n / d\n",
    "    print(\"Result:\", result)\n",
    "\n",
    "except ValueError:\n",
    "    print(\"Please enter valid integers for the numerator and denominator.\")\n",
    "\n",
    "except ZeroDivisionError:\n",
    "    print(\"Division by zero is not allowed.\")"
   ]
  },
  {
   "cell_type": "markdown",
   "id": "4db1f556-1875-49f3-9a4b-ac052c0a834f",
   "metadata": {},
   "source": [
    "<h3>7. Write the reason due to which following errors are raised:</h3>\n",
    "<strong>a. EOFError - </strong> <p> EOFError is raised when one of the built-in functions input() or raw_input() hits an end-of-file condition (EOF) without reading any data.<br> This occurs when we have asked the user for input but have not provided any input in the input box.</p>\n",
    "<strong>b. FloatingPointError - </strong> <p>In Python, a FloatingPointError is a built-in exception that is raised when a floating-point operation fails to produce a valid result due to various reasons related to floating-point arithmetic.<br>The most common scenario that raises a FloatingPointError is attempting an invalid mathematical operation, such as:<br>\n",
    "Division by zero with floating-point numbers.<br>\n",
    "Calculations that result in an overflow (too large to be represented).<br>\n",
    "Calculations that result in an underflow (too close to zero to be represented).</p>\n",
    "<strong>c. IndexError - </strong> <p>IndexError is an exception in python that occurs when we try to access an element from a list or tuple from an index that is not present in the list.<br> For example, we have a list of 10 elements, the index is from 0 to 9. If we try to access an element at index 10 or 11 or more, it will cause the program to raise IndexError with the message “IndexError: list index out of range”.</p>\n",
    "<strong>d. MemoryError - </strong> <p>A MemoryError means that the interpreter has run out of memory to allocate to your Python program. This may be due to an issue in the setup of the Python environment or it may be a concern with the code itself loading too much data at the same time.</p>\n",
    "<strong>e. OverflowError - </strong> <p>An OverflowError is a built-in exception that is raised when a mathematical operation overflows, meaning the result of the operation is too large (or too small) to be represented by the data type being used.</p>\n",
    "<strong>f. TabError - </strong> <p>The Python “TabError: inconsistent use of tabs and spaces in indentation” error is raised when you try to indent code using both spaces and tabs. You fix this error by sticking to either spaces or tabs in a program and replacing any tabs or spaces that do not use your preferred method of indentation.</p>\n",
    "<strong>g. ValueError - </strong> <p>ValueError is a built-in exception that is raised when a function or operation receives an argument of the right data type but with an inappropriate value. It occurs when the data provided is not suitable or valid for the operation being performed.</p>"
   ]
  },
  {
   "cell_type": "markdown",
   "id": "8527adba-a6b1-442d-9edf-e75cb79ad8ee",
   "metadata": {},
   "source": [
    "<h3>8. Write code for the following given scenario and add try-exception block to it.\n",
    "<br>a. Program to divide two numbers\n",
    "<br>b. Program to convert a string to an integer\n",
    "<br>c. Program to access an element in a list\n",
    "<br>d. Program to handle a specific exception\n",
    "<br>e. Program to handle any exception</h3>"
   ]
  },
  {
   "cell_type": "code",
   "execution_count": 14,
   "id": "b1d8635a-63a0-4354-8c8e-d808694319c0",
   "metadata": {
    "tags": []
   },
   "outputs": [
    {
     "name": "stdout",
     "output_type": "stream",
     "text": [
      "Error: Cannot divide by zero.\n"
     ]
    }
   ],
   "source": [
    "#a. Program to divide two numbers\n",
    "def divide_numbers(x, y):\n",
    "    try:\n",
    "        result = x / y\n",
    "        return result\n",
    "    except ZeroDivisionError:\n",
    "        print(\"Error: Cannot divide by zero.\")\n",
    "        return None\n",
    "\n",
    "divide_numbers(50,0)"
   ]
  },
  {
   "cell_type": "code",
   "execution_count": 16,
   "id": "30602ddb-9dc8-468d-855c-f49c8fab7206",
   "metadata": {
    "tags": []
   },
   "outputs": [
    {
     "data": {
      "text/plain": [
       "10"
      ]
     },
     "execution_count": 16,
     "metadata": {},
     "output_type": "execute_result"
    }
   ],
   "source": [
    "#b. Program to convert a string to an integer\n",
    "def convert_to_integer(s):\n",
    "    try:\n",
    "        number = int(s)\n",
    "        return number\n",
    "    except ValueError:\n",
    "        print(\"Error: Invalid input. Could not convert to an integer.\")\n",
    "        return None\n",
    "convert_to_integer(\"10\")"
   ]
  },
  {
   "cell_type": "code",
   "execution_count": 18,
   "id": "c8ea9d01-3bd4-4587-98e6-5b18ee53666a",
   "metadata": {
    "tags": []
   },
   "outputs": [
    {
     "data": {
      "text/plain": [
       "'cherry'"
      ]
     },
     "execution_count": 18,
     "metadata": {},
     "output_type": "execute_result"
    }
   ],
   "source": [
    "#c. Program to access an element in a list:\n",
    "    \n",
    "def access_element_in_list(lst, index):\n",
    "    try:\n",
    "        value = lst[index]\n",
    "        return value\n",
    "    except IndexError:\n",
    "        print(\"Error: Index is out of range.\")\n",
    "        \n",
    "access_element_in_list([\"apple\", \"banana\", \"cherry\"],2)"
   ]
  },
  {
   "cell_type": "code",
   "execution_count": 19,
   "id": "d2f73cf3-02e5-4aa6-9909-18e0b65146fa",
   "metadata": {
    "tags": []
   },
   "outputs": [
    {
     "name": "stdin",
     "output_type": "stream",
     "text": [
      "Enter a number:  -7\n"
     ]
    },
    {
     "name": "stdout",
     "output_type": "stream",
     "text": [
      "Error: Negative numbers are not allowed.\n"
     ]
    }
   ],
   "source": [
    "#d. Program to handle a specific exception\n",
    "try:\n",
    "    num = int(input(\"Enter a number: \"))\n",
    "    if num < 0:\n",
    "        raise ValueError(\"Negative numbers are not allowed.\")\n",
    "    print(\"Number squared:\", num**2)\n",
    "\n",
    "except ValueError as ve:\n",
    "    print(\"Error:\", ve)\n",
    "except Exception as e:\n",
    "    print(\"Error:\", e)"
   ]
  },
  {
   "cell_type": "code",
   "execution_count": 22,
   "id": "5d507810-fc39-4295-b0e8-0f10a9844e5f",
   "metadata": {
    "tags": []
   },
   "outputs": [
    {
     "name": "stdin",
     "output_type": "stream",
     "text": [
      "Enter the first number:  5\n",
      "Enter the second number:  0\n"
     ]
    },
    {
     "name": "stdout",
     "output_type": "stream",
     "text": [
      "Error: division by zero\n"
     ]
    }
   ],
   "source": [
    "#e. Program to handle any exception\n",
    "try:\n",
    "    num1 = int(input(\"Enter the first number: \"))\n",
    "    num2 = int(input(\"Enter the second number: \"))\n",
    "    result = num1 / num2\n",
    "    print(f\"{num1} / {num2} = {result}\")\n",
    "\n",
    "except Exception as e:\n",
    "    print(\"Error:\", e) "
   ]
  },
  {
   "cell_type": "code",
   "execution_count": null,
   "id": "0131841d-c5a4-4e5a-85a4-da8163b8d823",
   "metadata": {},
   "outputs": [],
   "source": []
  }
 ],
 "metadata": {
  "kernelspec": {
   "display_name": "Python 3 (ipykernel)",
   "language": "python",
   "name": "python3"
  },
  "language_info": {
   "codemirror_mode": {
    "name": "ipython",
    "version": 3
   },
   "file_extension": ".py",
   "mimetype": "text/x-python",
   "name": "python",
   "nbconvert_exporter": "python",
   "pygments_lexer": "ipython3",
   "version": "3.11.3"
  }
 },
 "nbformat": 4,
 "nbformat_minor": 5
}
