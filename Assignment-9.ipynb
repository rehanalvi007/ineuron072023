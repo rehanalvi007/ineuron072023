{
 "cells": [
  {
   "cell_type": "markdown",
   "id": "f5504676-778d-469a-98bc-ad0464264d69",
   "metadata": {},
   "source": [
    "# Assignment-9 (Python (Functions Assignment) - 2)"
   ]
  },
  {
   "cell_type": "markdown",
   "id": "7673a166-6250-4a74-adb3-4bafff90a793",
   "metadata": {},
   "source": [
    "<h3>1. What is a lambda function in Python, and how does it differ from a regular function?</h3>\n",
    "<h3> Ans - </h3> <p> Lambda function is a small <strong> anonymous </strong> function. <br> It can take any number of arguments , but can only have one expression.<br>Lambda Function is same as a regular python function but can be defined without a name.<br> Let us take an example to show how lambda function differ from regular function  "
   ]
  },
  {
   "cell_type": "code",
   "execution_count": 1,
   "id": "fb2b2f14-bf80-4499-9ba8-b3e392b40851",
   "metadata": {
    "tags": []
   },
   "outputs": [
    {
     "name": "stdout",
     "output_type": "stream",
     "text": [
      "9\n",
      "25\n"
     ]
    }
   ],
   "source": [
    "# Finding square of a number using lambda function\n",
    "square = lambda x: x ** 2\n",
    "print(square(3)) # Output: 9\n",
    "\n",
    "# Traditional function to calculate square of a number\n",
    "def square1(num):\n",
    "    return num ** 2\n",
    "print(square(5)) # Output: 25"
   ]
  },
  {
   "cell_type": "markdown",
   "id": "7b88ca99-cfe4-43c7-9c31-11d6dcc67a44",
   "metadata": {},
   "source": [
    "<h3>2. Can a lambda function in Python have multiple arguments? If yes, how can you define and use\n",
    "them?</h3>\n",
    "<strong> Ans - </strong> Yes lambda function can have multiple arguments.<br> For defining lets take one example"
   ]
  },
  {
   "cell_type": "code",
   "execution_count": 2,
   "id": "5c7e73c8-38b4-422e-a15b-875e0c3c26d3",
   "metadata": {
    "tags": []
   },
   "outputs": [
    {
     "name": "stdout",
     "output_type": "stream",
     "text": [
      "100.0\n"
     ]
    }
   ],
   "source": [
    "# calculate simple interest using lambda function\n",
    "SI = lambda P,R,T : (P*R*T)/100\n",
    "print(SI(1000,5,2))"
   ]
  },
  {
   "cell_type": "markdown",
   "id": "ea01dfcf-ca1f-4f51-b34b-897e8af43026",
   "metadata": {},
   "source": [
    "<h3>3.How are lambda functions typically used in Python? Provide an example use case.</h3>\n",
    "<strong>Ans-</strong>Lambda function is often used when a small function is required for a short period and doesn't need a full function definition.<br> Lambda functions are particularly useful in combination with higher-order functions, like map(), filter(), and reduce(), or when you need to pass a simple function as an argument to another function. <br> Example use case of lambda functions in Python: </p>"
   ]
  },
  {
   "cell_type": "code",
   "execution_count": 3,
   "id": "931ad7fa-3fda-4d13-8599-18c852ff7af2",
   "metadata": {
    "tags": []
   },
   "outputs": [
    {
     "name": "stdout",
     "output_type": "stream",
     "text": [
      "[2, 4, 6, 8, 10]\n"
     ]
    }
   ],
   "source": [
    "numbers = [1, 2, 3, 4, 5, 6, 7, 8, 9, 10]\n",
    "\n",
    "# Use filter() with a lambda function to keep only the even numbers\n",
    "even_numbers = list(filter(lambda x: x % 2 == 0, numbers))\n",
    "print(even_numbers)"
   ]
  },
  {
   "cell_type": "markdown",
   "id": "4819529d-1f8b-426f-af2d-0219c317a917",
   "metadata": {
    "tags": []
   },
   "source": [
    "<h3>4. What are the advantages and limitations of lambda functions compared to regular functions in\n",
    "Python?</h3>\n",
    "<strong> Ans - </strong> lambda functions are beneficial for quick, simple operations and when working with higher-order functions, but they are limited in their capabilities and lack the flexibility and readability of regular functions. Regular functions, on the other hand, are more versatile, reusable, and offer better readability and documentation options, making them suitable for more complex tasks and codebases. It's essential to choose the appropriate type of function based on the specific requirements and context of your code."
   ]
  },
  {
   "cell_type": "markdown",
   "id": "690bd007-4a09-43bd-8244-9364440511a6",
   "metadata": {},
   "source": [
    "<h3>5. Are lambda functions in Python able to access variables defined outside of their own scope?\n",
    "Explain with an example.</h3>\n",
    "<strong> Ans - </strong> <p>Yes, lambda functions in Python are able to access variables defined outside of their own scope.<br> These variables are part of the closure that is created when a lambda function is defined. <br> A closure is a function object that remembers values in the enclosing scope even if they are not present in memory.</p> \n",
    "<scope>Example:</scope>"
   ]
  },
  {
   "cell_type": "code",
   "execution_count": 4,
   "id": "a5e590c3-b11b-4dbe-adef-b231a547df1d",
   "metadata": {
    "tags": []
   },
   "outputs": [
    {
     "name": "stdout",
     "output_type": "stream",
     "text": [
      "15\n"
     ]
    }
   ],
   "source": [
    "def outer_function(x):\n",
    "    # This is the outer function that defines the lambda function inside it.\n",
    "    # The lambda function can access the variable 'x' defined in this scope.\n",
    "\n",
    "    add_x = lambda y: x + y\n",
    "\n",
    "    return add_x\n",
    "\n",
    "# Call the outer function to create a closure with 'x' as 10\n",
    "closure_function = outer_function(10)\n",
    "\n",
    "#  we can use the closure_function \n",
    "result = closure_function(5)   # 10 + 5 = 15\n",
    "print(result)  # Output: 15\n"
   ]
  },
  {
   "cell_type": "markdown",
   "id": "c953ecd7-4116-4dcf-8e7b-51d77e8a5f72",
   "metadata": {},
   "source": [
    "<h3>6. Write a lambda function to calculate the square of a given number? </h3>\n"
   ]
  },
  {
   "cell_type": "code",
   "execution_count": 5,
   "id": "ac574f89-1d15-4c22-a1c6-7eec05dd1d5b",
   "metadata": {
    "tags": []
   },
   "outputs": [
    {
     "name": "stdout",
     "output_type": "stream",
     "text": [
      "81\n"
     ]
    }
   ],
   "source": [
    "# Finding square of a number using lambda function\n",
    "square = lambda x: x ** 2\n",
    "print(square(9)) "
   ]
  },
  {
   "cell_type": "markdown",
   "id": "44c85477-b1dd-498f-885c-0e50f66f514f",
   "metadata": {},
   "source": [
    "<h3>7. Create a lambda function to find the maximum value in a list of integers.</h3>"
   ]
  },
  {
   "cell_type": "code",
   "execution_count": 6,
   "id": "ec68262d-cf29-40ad-8368-36dbc65251a7",
   "metadata": {
    "tags": []
   },
   "outputs": [
    {
     "name": "stdout",
     "output_type": "stream",
     "text": [
      "876\n"
     ]
    }
   ],
   "source": [
    "#list of integers\n",
    "list_1 = [40,99,76,123,876]\n",
    "find_max = lambda lst: max(lst)\n",
    "#using lambda function to find max value\n",
    "max_value = find_max(list_1)\n",
    "print(max_value)\n"
   ]
  },
  {
   "cell_type": "markdown",
   "id": "390da386-d0bc-4139-a152-245f824c6736",
   "metadata": {},
   "source": [
    "<h3>8. Implement a lambda function to filter out all the even numbers from a list of integers?</h3>"
   ]
  },
  {
   "cell_type": "code",
   "execution_count": 8,
   "id": "072c475a-0852-42fa-a20d-bffcbacde68f",
   "metadata": {
    "tags": []
   },
   "outputs": [
    {
     "name": "stdout",
     "output_type": "stream",
     "text": [
      "[2, 4, 6, 8, 10]\n"
     ]
    }
   ],
   "source": [
    "# Sample list of integers\n",
    "numbers = [1, 2, 3, 4, 5, 6, 7, 8, 9, 10]\n",
    "\n",
    "# Using the lambda function with filter() to filter out even numbers\n",
    "filtered_numbers = list(filter(lambda x: x % 2 == 0, numbers))\n",
    "\n",
    "print(filtered_numbers)"
   ]
  },
  {
   "cell_type": "markdown",
   "id": "16490d4c-1169-4e31-86b1-fb39822cfe03",
   "metadata": {
    "tags": []
   },
   "source": [
    "<h3>9. Write a lambda function to sort a list of strings in ascending order based on the length of each\n",
    "string.</h3>"
   ]
  },
  {
   "cell_type": "code",
   "execution_count": 10,
   "id": "d6fb62b6-66a5-4365-a4c4-0e4c9f9ca92d",
   "metadata": {
    "tags": []
   },
   "outputs": [
    {
     "name": "stdout",
     "output_type": "stream",
     "text": [
      "['kiwi', 'apple', 'banana', 'orange', 'grapes']\n"
     ]
    }
   ],
   "source": [
    "# Sample list of strings\n",
    "strings = ['apple', 'banana', 'orange', 'grapes', 'kiwi']\n",
    "\n",
    "# Using the lambda function with sorted() to sort the strings based on length\n",
    "sorted_strings = sorted(strings, key=lambda s: len(s))\n",
    "\n",
    "print(sorted_strings)\n"
   ]
  },
  {
   "cell_type": "markdown",
   "id": "2a4b8d80-8f5d-4ac1-a412-1965cb0989e8",
   "metadata": {},
   "source": [
    "<h3>10. Create a lambda function that takes two lists as input and returns a new list containing the\n",
    "common elements between the two lists.</h3>"
   ]
  },
  {
   "cell_type": "code",
   "execution_count": 11,
   "id": "f02865ba-c6dd-4707-841f-71b8d3d7992f",
   "metadata": {
    "tags": []
   },
   "outputs": [
    {
     "name": "stdout",
     "output_type": "stream",
     "text": [
      "[3, 4, 5]\n"
     ]
    }
   ],
   "source": [
    "# Sample lists\n",
    "list1 = [1, 2, 3, 4, 5]\n",
    "list2 = [3, 4, 5, 6, 7]\n",
    "\n",
    "# Using the lambda function with filter() to find common elements\n",
    "find_common_elements = lambda lst1, lst2: list(filter(lambda x: x in lst1, lst2))\n",
    "\n",
    "# Call the lambda function\n",
    "common_elements = find_common_elements(list1, list2)\n",
    "\n",
    "print(common_elements)\n",
    "# Output: [3, 4, 5]\n"
   ]
  },
  {
   "cell_type": "markdown",
   "id": "90897996-09e7-45e5-9a44-90c0bd020d71",
   "metadata": {},
   "source": [
    "<h3>11. Write a recursive function to calculate the factorial of a given positive integer.</h3>"
   ]
  },
  {
   "cell_type": "code",
   "execution_count": 13,
   "id": "097b1e60-55a8-4e52-8b6b-173c34bbbda3",
   "metadata": {
    "tags": []
   },
   "outputs": [
    {
     "name": "stdout",
     "output_type": "stream",
     "text": [
      "The factorial of 5 is 120\n"
     ]
    }
   ],
   "source": [
    "def factorial(n):\n",
    "    if n == 0:\n",
    "        return 1\n",
    "    else:\n",
    "        return n * factorial(n - 1)\n",
    "    \n",
    "# Test the function\n",
    "num = 5\n",
    "result = factorial(num)\n",
    "print(f\"The factorial of {num} is {result}\")    \n",
    "\n"
   ]
  },
  {
   "cell_type": "markdown",
   "id": "7c0e86a9-e6fa-4ec7-8f8d-b4ceb3cf006c",
   "metadata": {},
   "source": [
    "<h3>12. Implement a recursive function to compute the nth Fibonacci number.</h3>"
   ]
  },
  {
   "cell_type": "code",
   "execution_count": 15,
   "id": "ea12ad17-ee36-4511-92a8-5d63bb4f0d74",
   "metadata": {
    "tags": []
   },
   "outputs": [
    {
     "name": "stdout",
     "output_type": "stream",
     "text": [
      "The 7th Fibonacci number is 13\n"
     ]
    }
   ],
   "source": [
    "def fibonacci(n):\n",
    "    if n == 0:\n",
    "        return 0\n",
    "    elif n == 1:\n",
    "        return 1\n",
    "    else:\n",
    "        return fibonacci(n - 1) + fibonacci(n - 2)\n",
    "\n",
    "# Test the function\n",
    "num = 7\n",
    "result = fibonacci(num)\n",
    "print(f\"The {num}th Fibonacci number is {result}\")"
   ]
  },
  {
   "cell_type": "markdown",
   "id": "c849d29b-5a8a-40df-89e4-06768e2eded9",
   "metadata": {},
   "source": [
    "<h3>13. Create a recursive function to find the sum of all the elements in a given list.</h3>"
   ]
  },
  {
   "cell_type": "code",
   "execution_count": 16,
   "id": "69de76cc-de35-4d62-8a28-7b0605e71592",
   "metadata": {
    "tags": []
   },
   "outputs": [
    {
     "name": "stdout",
     "output_type": "stream",
     "text": [
      "The sum of elements in the list is: 15\n"
     ]
    }
   ],
   "source": [
    "# Python program to find sum of elements using recursion\n",
    "def recursive_sum(ele, index=0):\n",
    "    if index == len(ele):\n",
    "        return 0\n",
    "    else:\n",
    "        return ele[index] + recursive_sum(ele, index + 1)\n",
    "\n",
    "# Test the function\n",
    "numbers = [1, 2, 3, 4, 5]\n",
    "result = recursive_sum(numbers)\n",
    "print(f\"The sum of elements in the list is: {result}\")"
   ]
  },
  {
   "cell_type": "markdown",
   "id": "3eff1729-a4d5-4d01-91fb-d416600f345b",
   "metadata": {},
   "source": [
    "<h3>14. Write a recursive function to determine whether a given string is a palindrome? </h3>"
   ]
  },
  {
   "cell_type": "code",
   "execution_count": 17,
   "id": "ef13e113-1e75-46ab-8ee3-53f3d204fc24",
   "metadata": {
    "tags": []
   },
   "outputs": [
    {
     "name": "stdout",
     "output_type": "stream",
     "text": [
      "racecar is a palindrome: True\n",
      "hello is a palindrome: False\n"
     ]
    }
   ],
   "source": [
    "def is_palindrome(s):\n",
    "    # Base case: if the string is empty or has only one character, it is a palindrome\n",
    "    if len(s) <= 1:\n",
    "        return True\n",
    "\n",
    "    # Compare the first and last characters of the string\n",
    "    if s[0] == s[-1]:\n",
    "        # If they match, recursively check the remaining substring (excluding the first and last characters)\n",
    "        return is_palindrome(s[1:-1])\n",
    "\n",
    "    # If the first and last characters don't match, the string is not a palindrome\n",
    "    return False\n",
    "\n",
    "# Test the function\n",
    "string1 = \"racecar\"\n",
    "string2 = \"hello\"\n",
    "\n",
    "print(f\"{string1} is a palindrome: {is_palindrome(string1)}\")\n",
    "print(f\"{string2} is a palindrome: {is_palindrome(string2)}\")"
   ]
  },
  {
   "cell_type": "markdown",
   "id": "8f9a232a-9863-4876-af82-8e7921c8a970",
   "metadata": {
    "tags": []
   },
   "source": [
    "<h3>15. Implement a recursive function to find the greatest common divisor (GCD) of two positive integers.</h3>"
   ]
  },
  {
   "cell_type": "code",
   "execution_count": null,
   "id": "81df2e5f-c803-491e-892f-e28fbc4e757a",
   "metadata": {},
   "outputs": [],
   "source": []
  }
 ],
 "metadata": {
  "kernelspec": {
   "display_name": "Python 3 (ipykernel)",
   "language": "python",
   "name": "python3"
  },
  "language_info": {
   "codemirror_mode": {
    "name": "ipython",
    "version": 3
   },
   "file_extension": ".py",
   "mimetype": "text/x-python",
   "name": "python",
   "nbconvert_exporter": "python",
   "pygments_lexer": "ipython3",
   "version": "3.11.3"
  }
 },
 "nbformat": 4,
 "nbformat_minor": 5
}
