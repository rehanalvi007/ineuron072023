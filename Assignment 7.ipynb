{
 "cells": [
  {
   "cell_type": "markdown",
   "id": "f50ba4d2-b3d7-451e-8ace-40f692187eb6",
   "metadata": {},
   "source": [
    "# Assignment-7"
   ]
  },
  {
   "cell_type": "markdown",
   "id": "a3b1cc3b-b4c0-40f2-a979-c782f4fa4a86",
   "metadata": {},
   "source": [
    "### Q.1. Create two int type variables, apply addition, subtraction, division and multiplications and store the results in variables. Then print the data in the following format by calling the variables:\n"
   ]
  },
  {
   "cell_type": "raw",
   "id": "80d2dca5-db47-4a81-a1b7-fb4e8a996ca9",
   "metadata": {},
   "source": [
    "First variable is __ & second variable is __.\n",
    "Addition: __ + __ = __\n",
    "Subtraction: __ - __ = __\n",
    "Multiplication: __ * __ = __\n",
    "Division: __ / __ = __"
   ]
  },
  {
   "cell_type": "code",
   "execution_count": 10,
   "id": "f6644842-51ba-4480-b089-48f6b8ad98f0",
   "metadata": {},
   "outputs": [
    {
     "name": "stdin",
     "output_type": "stream",
     "text": [
      "Enter the number1 :  25\n",
      "Enter the number2 :  5\n"
     ]
    },
    {
     "name": "stdout",
     "output_type": "stream",
     "text": [
      "First variable is 25 & second variable is 5\n",
      "Addition: 25 + 5 = 30\n",
      "Subtraction: 25 - 5 = 20\n",
      "Multiplication: 25 * 5 = 125\n",
      "Division: 25 / 5 = 5.0\n"
     ]
    }
   ],
   "source": [
    "num1 = int(input(\"Enter the number1 : \"))\n",
    "num2 = int(input(\"Enter the number2 : \"))\n",
    "#Addition \n",
    "Add = num1 + num2\n",
    "#subtraction\n",
    "sub = num1-num2\n",
    "#multiplication\n",
    "mul = num1 * num2\n",
    "#Division\n",
    "div = num1/num2\n",
    "print(f\"First variable is {num1} & second variable is {num2}\")\n",
    "print(f\"Addition: {num1} + {num2} = {Add}\")\n",
    "print(f\"Subtraction: {num1} - {num2} = {sub}\")\n",
    "print(f\"Multiplication: {num1} * {num2} = {mul}\")\n",
    "print(f\"Division: {num1} / {num2} = {div}\")\n",
    "      \n",
    "    "
   ]
  },
  {
   "cell_type": "markdown",
   "id": "31062e4e-c348-42f9-9c90-eed7f8f2b4d1",
   "metadata": {},
   "source": [
    "### Q.2. What is the difference between the following operators:\n",
    "(i) ‘/’ & ‘//’\n",
    "(ii) ‘**’ & ‘^’"
   ]
  },
  {
   "cell_type": "raw",
   "id": "6d63939d-68cb-4607-8c1e-6d5b0d1dcefa",
   "metadata": {},
   "source": [
    "Ans - Float Division('/') - The floating-point number “/” stands for floating division,\n",
    "      which returns the quotient as a floating-point number.\n",
    "      Floor Division(\"//\") - When an integer is divided, the result is rounded to the nearest integer(returning the           quotient as a truncated integer value.and is denoted by the symbol “//”.\n",
    "       \n",
    "      \n",
    "For Example"
   ]
  },
  {
   "cell_type": "code",
   "execution_count": 11,
   "id": "a44bc71d-b1d1-45f6-9904-8db44d5c4140",
   "metadata": {},
   "outputs": [
    {
     "name": "stdout",
     "output_type": "stream",
     "text": [
      "1.0\n",
      "5.0\n",
      "-5.0\n",
      "10.0\n"
     ]
    }
   ],
   "source": [
    "#Float Division('/') -\n",
    "print(5/5)\n",
    "print(10/2)\n",
    "print(-10/2)\n",
    "print(20.0/2)"
   ]
  },
  {
   "cell_type": "code",
   "execution_count": 12,
   "id": "a385f6d8-c43a-4bfe-8d9a-26d91fb717c1",
   "metadata": {},
   "outputs": [
    {
     "name": "stdout",
     "output_type": "stream",
     "text": [
      "1\n",
      "1\n",
      "3\n"
     ]
    }
   ],
   "source": [
    "#Floor Division('//')\n",
    "\n",
    "print(5//5)\n",
    "print(3//2)\n",
    "print(10//3)"
   ]
  },
  {
   "cell_type": "markdown",
   "id": "c5635ffa-fb6a-47c4-9ce8-c14b77750c7b",
   "metadata": {},
   "source": [
    "### Q.3. List the logical operators."
   ]
  },
  {
   "cell_type": "raw",
   "id": "08fbdcfa-1d32-4801-9a0a-510add74d215",
   "metadata": {},
   "source": [
    "Answer Logical operators in python are\n",
    "       1. And - Return True if both statements are True\n",
    "       2. OR -  Return True if any one condition is True\n",
    "       3. Not - Reverse the result , return False if Result is True"
   ]
  },
  {
   "cell_type": "code",
   "execution_count": 16,
   "id": "a03b3475-8658-4c96-9cc3-2186bd11b194",
   "metadata": {},
   "outputs": [
    {
     "data": {
      "text/plain": [
       "True"
      ]
     },
     "execution_count": 16,
     "metadata": {},
     "output_type": "execute_result"
    }
   ],
   "source": [
    "x = 4\n",
    "x < 5 and  x < 10   #Return True if both statements are True\n",
    "\n"
   ]
  },
  {
   "cell_type": "code",
   "execution_count": 17,
   "id": "cf760ec3-2c9f-470a-8531-4f256442edca",
   "metadata": {},
   "outputs": [
    {
     "data": {
      "text/plain": [
       "True"
      ]
     },
     "execution_count": 17,
     "metadata": {},
     "output_type": "execute_result"
    }
   ],
   "source": [
    "x=4\n",
    "x < 5 or x < 3 #Return True if any one condition is True"
   ]
  },
  {
   "cell_type": "code",
   "execution_count": 19,
   "id": "097bbbb4-b794-46fc-9952-91275945bac0",
   "metadata": {},
   "outputs": [
    {
     "data": {
      "text/plain": [
       "False"
      ]
     },
     "execution_count": 19,
     "metadata": {},
     "output_type": "execute_result"
    }
   ],
   "source": [
    "x=4\n",
    "not(x < 5 and x < 10)   #return False if Result is True"
   ]
  },
  {
   "cell_type": "markdown",
   "id": "ba9682bb-c0fa-414c-8757-6b8b1079b8e8",
   "metadata": {},
   "source": [
    "### Q.4. Explain right shift operator and left shift operator with examples."
   ]
  },
  {
   "cell_type": "raw",
   "id": "850c7ff6-7370-4549-82eb-bbc3ab7b0e3f",
   "metadata": {},
   "source": [
    "Ans-Right Shift operator- \n",
    "    The Bitwise Right Shift shifts/moves the bits of a number to the right.\n",
    "    We use the “right shift”(>>) symbol for this.\n",
    "    Left Shift operator - \n",
    "    The Bitwise Left shift shifts/moves the bits of a number to the Left. \n",
    "    We use the “left shift”(<<) symbol for this. \n",
    "    "
   ]
  },
  {
   "cell_type": "code",
   "execution_count": 34,
   "id": "d98bd247-6d05-49a7-8147-ce073c8245d8",
   "metadata": {},
   "outputs": [
    {
     "data": {
      "text/plain": [
       "'0b1010'"
      ]
     },
     "execution_count": 34,
     "metadata": {},
     "output_type": "execute_result"
    }
   ],
   "source": [
    "#Left Shift\n",
    "bin(10)     #binary of 10 is '0b1010' left shift means multiplyng by 2 ans we will get '0b101000' i.e 40\n"
   ]
  },
  {
   "cell_type": "code",
   "execution_count": 36,
   "id": "72e2dda7-da56-4d86-bdee-eb070ad6c67e",
   "metadata": {},
   "outputs": [
    {
     "data": {
      "text/plain": [
       "40"
      ]
     },
     "execution_count": 36,
     "metadata": {},
     "output_type": "execute_result"
    }
   ],
   "source": [
    "10<<2"
   ]
  },
  {
   "cell_type": "code",
   "execution_count": 37,
   "id": "de0316c7-58ac-43cc-9fa4-7ce2a86654a1",
   "metadata": {},
   "outputs": [
    {
     "data": {
      "text/plain": [
       "'0b101000'"
      ]
     },
     "execution_count": 37,
     "metadata": {},
     "output_type": "execute_result"
    }
   ],
   "source": [
    "bin(40)"
   ]
  },
  {
   "cell_type": "code",
   "execution_count": 38,
   "id": "c93f96b8-8374-4de2-b230-4359a756f697",
   "metadata": {},
   "outputs": [
    {
     "data": {
      "text/plain": [
       "2"
      ]
     },
     "execution_count": 38,
     "metadata": {},
     "output_type": "execute_result"
    }
   ],
   "source": [
    "# Right Shift\n",
    "10>>2                               # in right shift we loose 2 bits"
   ]
  },
  {
   "cell_type": "code",
   "execution_count": 39,
   "id": "e7c77b4d-9e86-45cd-a28f-3e4d5ef253dc",
   "metadata": {},
   "outputs": [
    {
     "data": {
      "text/plain": [
       "'0b10'"
      ]
     },
     "execution_count": 39,
     "metadata": {},
     "output_type": "execute_result"
    }
   ],
   "source": [
    "bin(2)"
   ]
  },
  {
   "cell_type": "markdown",
   "id": "aff28e4b-c363-4f4f-8897-2d0c96db6212",
   "metadata": {},
   "source": [
    "### Q.5. Create a list containing int type data of length 15. Then write a code to check if 10 is present in the list or not."
   ]
  },
  {
   "cell_type": "code",
   "execution_count": 45,
   "id": "40626eb3-1a89-4f6f-9cf2-90243ce7c23e",
   "metadata": {},
   "outputs": [
    {
     "name": "stdout",
     "output_type": "stream",
     "text": [
      "The number exist\n"
     ]
    }
   ],
   "source": [
    "list = [1,3,5,7,8,9,10,15,28,34,39,41,47,50,76]\n",
    "i = 10 # i=10 we have to check\n",
    "if i in list:\n",
    "    print(\"The number exist\")\n",
    "else:\n",
    "    print(\"not exist\")\n",
    "        "
   ]
  },
  {
   "cell_type": "code",
   "execution_count": null,
   "id": "7fcb25c8-9319-40f1-94c3-6733e3185316",
   "metadata": {},
   "outputs": [],
   "source": []
  }
 ],
 "metadata": {
  "kernelspec": {
   "display_name": "Python 3 (ipykernel)",
   "language": "python",
   "name": "python3"
  },
  "language_info": {
   "codemirror_mode": {
    "name": "ipython",
    "version": 3
   },
   "file_extension": ".py",
   "mimetype": "text/x-python",
   "name": "python",
   "nbconvert_exporter": "python",
   "pygments_lexer": "ipython3",
   "version": "3.9.13"
  }
 },
 "nbformat": 4,
 "nbformat_minor": 5
}
