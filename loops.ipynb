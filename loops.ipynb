{
 "cells": [
  {
   "cell_type": "code",
   "execution_count": 3,
   "id": "a1164545-420c-4f5e-8ef6-ef05f4d151b8",
   "metadata": {},
   "outputs": [
    {
     "name": "stdout",
     "output_type": "stream",
     "text": [
      "sum =  20\n",
      "sum =  46\n",
      "sum =  133\n",
      "sum =  157\n",
      "sum =  255\n",
      "Avg =  51.0\n"
     ]
    }
   ],
   "source": [
    "#Find average of number?\n",
    "list =[20,26,87,24,98]\n",
    "sum = 0\n",
    "for i in list:\n",
    "    sum = sum + i\n",
    "    print(\"sum = \", sum)\n",
    "print(\"Avg = \" ,sum/len(list))\n"
   ]
  },
  {
   "cell_type": "code",
   "execution_count": 2,
   "id": "9b715314-b227-41ac-8183-0bf74c3bb174",
   "metadata": {},
   "outputs": [
    {
     "name": "stdout",
     "output_type": "stream",
     "text": [
      "sum =  20\n",
      "sum =  46\n",
      "sum =  133\n",
      "sum =  157\n",
      "sum =  255\n"
     ]
    }
   ],
   "source": [
    "list =(20,26,87,24,98)\n",
    "sum = 0\n",
    "for i in list:\n",
    "    sum = sum + i\n",
    "    print(\"sum = \", sum)"
   ]
  },
  {
   "cell_type": "code",
   "execution_count": 3,
   "id": "9c0ba48a-136c-4d84-b776-f5ed2b6f6d18",
   "metadata": {},
   "outputs": [
    {
     "name": "stdin",
     "output_type": "stream",
     "text": [
      "enter the number  5\n"
     ]
    },
    {
     "name": "stdout",
     "output_type": "stream",
     "text": [
      "5\n",
      "10\n",
      "15\n",
      "20\n",
      "25\n",
      "30\n",
      "35\n",
      "40\n",
      "45\n",
      "50\n"
     ]
    }
   ],
   "source": [
    "## Program to print table of given number\n",
    "n = int(input(\"enter the number \"))\n",
    "for i in range(1,11):\n",
    "    mul = n * i\n",
    "    print(mul)"
   ]
  },
  {
   "cell_type": "code",
   "execution_count": 4,
   "id": "3231b6b3-677e-4627-9c6e-a7db6375c974",
   "metadata": {},
   "outputs": [
    {
     "name": "stdout",
     "output_type": "stream",
     "text": [
      "The name of the company is  Realme\n",
      "R\n",
      "e\n",
      "a\n",
      "l\n",
      "m\n",
      "e\n",
      "The name of the company is  samsung\n",
      "s\n",
      "a\n",
      "m\n",
      "s\n",
      "u\n",
      "n\n",
      "g\n",
      "The name of the company is  Iphone\n",
      "I\n",
      "p\n",
      "h\n",
      "o\n",
      "n\n",
      "e\n",
      "The name of the company is  Nokia\n",
      "N\n",
      "o\n",
      "k\n",
      "i\n",
      "a\n"
     ]
    }
   ],
   "source": [
    "#Nested loop\n",
    "company = ['Realme',\"samsung\",\"Iphone\",\"Nokia\"]\n",
    "for i in company:\n",
    "    print(\"The name of the company is \" , i)\n",
    "    for letter in i:\n",
    "        print(letter)"
   ]
  },
  {
   "cell_type": "code",
   "execution_count": 5,
   "id": "2c40b5c8-0e0b-4706-88a4-19d0a695f4dd",
   "metadata": {},
   "outputs": [
    {
     "name": "stdin",
     "output_type": "stream",
     "text": [
      "Enter player name rehan\n"
     ]
    },
    {
     "name": "stdout",
     "output_type": "stream",
     "text": [
      "14\n"
     ]
    }
   ],
   "source": [
    "#Program to display player who nhave scored goals\n",
    "player_name = input(\"Enter player name\")\n",
    "goal = {\"rehan\" : 14,\"ankit\":3,\"ali\" : 45}\n",
    "for player in goal:\n",
    "    if player == player_name:\n",
    "        print(goal[player])\n",
    "        break\n",
    "else:\n",
    "    print(\"There is no such player\")"
   ]
  },
  {
   "cell_type": "code",
   "execution_count": 6,
   "id": "9891cdf9-8617-41ba-99b9-8d172c0de57e",
   "metadata": {},
   "outputs": [
    {
     "name": "stdin",
     "output_type": "stream",
     "text": [
      "Enter the player name rehan\n"
     ]
    },
    {
     "name": "stdout",
     "output_type": "stream",
     "text": [
      "14\n"
     ]
    }
   ],
   "source": [
    "n = input(\"Enter the player name\")\n",
    "goal = {\"rehan\" : 14,\"ankit\":3,\"ali\" : 45}\n",
    "for player in goal:\n",
    "    if player ==n:\n",
    "        print(goal[player])\n",
    "        break\n",
    "else:\n",
    "    print(\"no player\")"
   ]
  },
  {
   "cell_type": "code",
   "execution_count": 7,
   "id": "805f7a16-42c2-490a-9df4-d436c9ac9986",
   "metadata": {},
   "outputs": [
    {
     "name": "stdout",
     "output_type": "stream",
     "text": [
      "[8, 64, 343, 729]\n"
     ]
    }
   ],
   "source": [
    "#cube of a number\n",
    "list = [2,4,7,9]\n",
    "cube = []\n",
    "for i in list:\n",
    "    cube.append(i**3)\n",
    "print(cube)\n",
    "    "
   ]
  },
  {
   "cell_type": "code",
   "execution_count": 8,
   "id": "f45e1e7c-5261-41a5-b7d3-d72f88303c80",
   "metadata": {},
   "outputs": [
    {
     "name": "stdin",
     "output_type": "stream",
     "text": [
      "enter the number 5\n"
     ]
    },
    {
     "name": "stdout",
     "output_type": "stream",
     "text": [
      "5 is odd number\n",
      "5 is odd number\n"
     ]
    }
   ],
   "source": [
    "#Odd number:\n",
    "num = int(input(\"enter the number\"))\n",
    "for i in range(num):\n",
    "    if i% 2 == 1:\n",
    "        print(num, \"is odd number\")\n",
    "else:\n",
    "    (num, \"is even number\")"
   ]
  },
  {
   "cell_type": "markdown",
   "id": "e399bbc1-192a-4fc8-8c8c-645dabe0d721",
   "metadata": {},
   "source": [
    "# Pattern"
   ]
  },
  {
   "cell_type": "code",
   "execution_count": 9,
   "id": "a7e9fda8-6ce3-467b-95db-171df6768ee5",
   "metadata": {},
   "outputs": [
    {
     "name": "stdout",
     "output_type": "stream",
     "text": [
      "* * * * * \n",
      "* * * * * \n",
      "* * * * * \n",
      "* * * * * \n",
      "* * * * * \n"
     ]
    }
   ],
   "source": [
    "n = 5\n",
    "for i in range(n):\n",
    "    for j in range(n):\n",
    "        print('*',end=' ')\n",
    "    print()"
   ]
  },
  {
   "cell_type": "code",
   "execution_count": 10,
   "id": "d5e5907b-1839-4df6-88aa-e0fc3500db66",
   "metadata": {},
   "outputs": [
    {
     "name": "stdout",
     "output_type": "stream",
     "text": [
      "* \n",
      "* * \n",
      "* * * \n",
      "* * * * \n",
      "* * * * * \n"
     ]
    }
   ],
   "source": [
    "# Increasing triangle pattern\n",
    "n = 5\n",
    "for i in range(n):\n",
    "    for j in range(i+1):\n",
    "        print('*',end=' ')\n",
    "    print()\n"
   ]
  },
  {
   "cell_type": "code",
   "execution_count": 11,
   "id": "f8be8419-b3d0-4f9d-8ff6-f2d53f58d7ef",
   "metadata": {},
   "outputs": [
    {
     "name": "stdout",
     "output_type": "stream",
     "text": [
      "* * * * * \n",
      "* * * * \n",
      "* * * \n",
      "* * \n",
      "* \n"
     ]
    }
   ],
   "source": [
    "# Deccreasing triangle pattern\n",
    "n = 5\n",
    "for i in range(n):\n",
    "    for j in range(i,n):\n",
    "        print('*',end=' ')\n",
    "    print()\n"
   ]
  },
  {
   "cell_type": "code",
   "execution_count": 12,
   "id": "09bdf9f1-b17c-488d-beda-239eaea981a0",
   "metadata": {},
   "outputs": [
    {
     "name": "stdout",
     "output_type": "stream",
     "text": [
      "          * \n",
      "        * * \n",
      "      * * * \n",
      "    * * * * \n",
      "  * * * * * \n"
     ]
    }
   ],
   "source": [
    "# Right sided triangle\n",
    "n = 5 \n",
    "for i in range(n):\n",
    "    for j in range(i,n):\n",
    "        print(\" \",end =' ')\n",
    "    for j in range(i+1):\n",
    "        print('*',end=' ')\n",
    "    print()"
   ]
  },
  {
   "cell_type": "code",
   "execution_count": 13,
   "id": "7fc30eeb-f055-41a7-a2ee-8dd38b49b783",
   "metadata": {},
   "outputs": [
    {
     "name": "stdout",
     "output_type": "stream",
     "text": [
      "  * * * * * \n",
      "    * * * * \n",
      "      * * * \n",
      "        * * \n",
      "          * \n"
     ]
    }
   ],
   "source": [
    "n = 5 \n",
    "for i in range(n):\n",
    "    for j in range(i+1):\n",
    "        print(\" \",end =' ')\n",
    "    for j in range(i,n):\n",
    "        print('*',end=' ')\n",
    "    print()"
   ]
  },
  {
   "cell_type": "code",
   "execution_count": 14,
   "id": "0f1f318c-6fa9-4dee-8db5-b9930700f9c4",
   "metadata": {},
   "outputs": [
    {
     "name": "stdout",
     "output_type": "stream",
     "text": [
      "What is your name\n"
     ]
    },
    {
     "name": "stdin",
     "output_type": "stream",
     "text": [
      "Enter your name rehan\n"
     ]
    },
    {
     "name": "stdout",
     "output_type": "stream",
     "text": [
      "hello rehan\n"
     ]
    }
   ],
   "source": [
    "# while loop\n",
    "name = ''\n",
    "while name !=\"rehan\":\n",
    "    print(\"What is your name\")\n",
    "    name = input(\"Enter your name\")\n",
    "print(\"hello\", name)"
   ]
  },
  {
   "cell_type": "code",
   "execution_count": 15,
   "id": "e36f53f5-c7d6-44bf-aa0d-142241260af7",
   "metadata": {},
   "outputs": [
    {
     "name": "stdout",
     "output_type": "stream",
     "text": [
      "What is your name\n"
     ]
    },
    {
     "name": "stdin",
     "output_type": "stream",
     "text": [
      "enter ur name rehan\n"
     ]
    },
    {
     "name": "stdout",
     "output_type": "stream",
     "text": [
      "hello rehan\n"
     ]
    }
   ],
   "source": [
    "while True:\n",
    "    print(\"What is your name\")\n",
    "    n = input(\"enter ur name\")\n",
    "    if n==\"rehan\":\n",
    "        break\n",
    "print(\"hello\",n)"
   ]
  },
  {
   "cell_type": "markdown",
   "id": "6e63df17-61a4-4825-973b-186181fd6657",
   "metadata": {},
   "source": [
    "### Exercise 1: Print First 10 natural numbers using while loop"
   ]
  },
  {
   "cell_type": "code",
   "execution_count": 16,
   "id": "21feee9f-7f34-448b-bee0-2fc2c361a3a4",
   "metadata": {},
   "outputs": [
    {
     "name": "stdout",
     "output_type": "stream",
     "text": [
      "1\n",
      "2\n",
      "3\n",
      "4\n",
      "5\n",
      "6\n",
      "7\n",
      "8\n",
      "9\n",
      "10\n"
     ]
    }
   ],
   "source": [
    "# For loop\n",
    "for i in range(1,11):\n",
    "    print(i)"
   ]
  },
  {
   "cell_type": "code",
   "execution_count": 17,
   "id": "95856f85-e35d-472b-866f-307c4e103d81",
   "metadata": {},
   "outputs": [
    {
     "name": "stdout",
     "output_type": "stream",
     "text": [
      "1\n",
      "2\n",
      "3\n",
      "4\n",
      "5\n",
      "6\n",
      "7\n",
      "8\n",
      "9\n",
      "10\n"
     ]
    }
   ],
   "source": [
    "#While loop\n",
    "i=1\n",
    "while i<11:\n",
    "    print(i)\n",
    "    i=i+1"
   ]
  },
  {
   "cell_type": "markdown",
   "id": "cd60630f-7629-43ad-a89b-37c18a4fdf16",
   "metadata": {},
   "source": [
    "### Exercise 2: Print the following pattern"
   ]
  },
  {
   "cell_type": "code",
   "execution_count": 25,
   "id": "e264dca8-e426-481f-9749-79b4df5db29e",
   "metadata": {},
   "outputs": [
    {
     "name": "stdout",
     "output_type": "stream",
     "text": [
      "1 \n",
      "1 2 \n",
      "1 2 3 \n",
      "1 2 3 4 \n",
      "1 2 3 4 5 \n"
     ]
    }
   ],
   "source": [
    "n=4\n",
    "for i in range(n+1):\n",
    "    for j in range(i+1):\n",
    "        print(j+1,end=' ')\n",
    "    print()"
   ]
  },
  {
   "cell_type": "code",
   "execution_count": 28,
   "id": "0f14696a-ddc7-4f2d-8ed4-1f0672fc9c7b",
   "metadata": {},
   "outputs": [
    {
     "name": "stdout",
     "output_type": "stream",
     "text": [
      "1 \n",
      "2 1 \n",
      "3 2 1 \n",
      "4 3 2 1 \n",
      "5 4 3 2 1 \n"
     ]
    }
   ],
   "source": [
    "n=4\n",
    "for i in range(n+1):\n",
    "    for j in range(i+1,0,-1):\n",
    "        print(j,end=' ')\n",
    "    print()"
   ]
  },
  {
   "cell_type": "code",
   "execution_count": 32,
   "id": "3da19015-220d-4f4f-b6df-f99b00a40757",
   "metadata": {},
   "outputs": [
    {
     "name": "stdout",
     "output_type": "stream",
     "text": [
      "4 \n",
      "3 4 \n",
      "2 3 4 \n",
      "1 2 3 4 \n"
     ]
    }
   ],
   "source": [
    "n=4\n",
    "for i in range(n):\n",
    "    for j in range(i,-1,-1):\n",
    "        print(n-j,end=' ')\n",
    "    print()"
   ]
  },
  {
   "cell_type": "code",
   "execution_count": 5,
   "id": "0b6b69a4-7c6c-427e-9ad0-6d8b10636e94",
   "metadata": {},
   "outputs": [
    {
     "name": "stdout",
     "output_type": "stream",
     "text": [
      "* \n",
      "* * \n",
      "* * * \n",
      "* * * * \n",
      "* * * * * \n"
     ]
    }
   ],
   "source": [
    "for i in range(5):\n",
    "    for j in range(i +1):\n",
    "        print(\"*\",end=' ')\n",
    "    print()"
   ]
  },
  {
   "cell_type": "code",
   "execution_count": null,
   "id": "76efbb0a-678d-4359-8074-f6455d763edc",
   "metadata": {},
   "outputs": [],
   "source": [
    "n=4\n",
    "for i in range(n+1):\n",
    "    for j in range(i+1):\n",
    "        print(j+1,end=' ')\n",
    "    print()"
   ]
  },
  {
   "cell_type": "markdown",
   "id": "221e520b-2994-4ecf-b8f1-484baf58d876",
   "metadata": {},
   "source": [
    "### Exercise 3: Calculate the sum of all numbers from 1 to a given number"
   ]
  },
  {
   "cell_type": "code",
   "execution_count": 19,
   "id": "c0dec588-fa45-4877-bcdf-1603800e8434",
   "metadata": {},
   "outputs": [
    {
     "name": "stdin",
     "output_type": "stream",
     "text": [
      "Enter the number 15\n"
     ]
    },
    {
     "name": "stdout",
     "output_type": "stream",
     "text": [
      "120\n"
     ]
    }
   ],
   "source": [
    "n = int(input(\"Enter the number\"))\n",
    "sum = 0\n",
    "for i in range(1,n+1):\n",
    "    sum+=i\n",
    "print(sum)"
   ]
  },
  {
   "cell_type": "markdown",
   "id": "e5ddb516-4ca4-4f12-ae64-c0bfe4623922",
   "metadata": {},
   "source": [
    "### Exercise 5: Display numbers from a list using loop"
   ]
  },
  {
   "cell_type": "code",
   "execution_count": 20,
   "id": "2a4c3ecf-686f-49e4-8d0d-fc0c13a390e0",
   "metadata": {},
   "outputs": [],
   "source": [
    "#Write a program to display only those numbers from a list that satisfy the following conditions\n",
    "\n",
    "#The number must be divisible by five\n",
    "#If the number is greater than 150, then skip it and move to the next number\n",
    "#If the number is greater than 500, then stop the loop"
   ]
  },
  {
   "cell_type": "code",
   "execution_count": 21,
   "id": "2114a6ab-28cd-40bf-a900-8cb45e684cfe",
   "metadata": {},
   "outputs": [
    {
     "name": "stdout",
     "output_type": "stream",
     "text": [
      "75\n",
      "150\n",
      "145\n"
     ]
    }
   ],
   "source": [
    "numbers = [12, 75, 150, 180, 145, 525, 50]\n",
    "for i in numbers:\n",
    "    if i > 500:\n",
    "        break\n",
    "    elif i >150:\n",
    "        continue\n",
    "    elif i % 5 == 0:\n",
    "        print(i)"
   ]
  },
  {
   "cell_type": "code",
   "execution_count": 22,
   "id": "402e6da8-c592-4ccc-950e-7f4ebeea296b",
   "metadata": {},
   "outputs": [
    {
     "name": "stdout",
     "output_type": "stream",
     "text": [
      "75\n",
      "150\n",
      "145\n"
     ]
    }
   ],
   "source": [
    "numbers = [12, 75, 150, 180, 145, 525, 50]\n",
    "# iterate each item of a list\n",
    "for item in numbers:\n",
    "    if item > 500:\n",
    "        break\n",
    "    elif item > 150:\n",
    "        continue\n",
    "    # check if number is divisible by 5\n",
    "    elif item % 5 == 0:\n",
    "        print(item)"
   ]
  },
  {
   "cell_type": "markdown",
   "id": "b25903fe-6506-4b0e-994b-6554d164fd5b",
   "metadata": {},
   "source": [
    "# Exercise 6: Count the total number of digits in a number\n",
    "### Write a program to count the total number of digits in a number using a while loop"
   ]
  },
  {
   "cell_type": "code",
   "execution_count": null,
   "id": "6efbe447-e76d-499f-b5d0-6f11edd9350a",
   "metadata": {},
   "outputs": [],
   "source": [
    "number = 75869\n",
    "count = 0\n",
    "while number!=0:\n",
    "    number//10\n",
    "    count+=1\n",
    "print(number)\n",
    "    "
   ]
  },
  {
   "cell_type": "code",
   "execution_count": 1,
   "id": "3edd3ace-33d9-4ae4-afb3-fa8dbd435c46",
   "metadata": {},
   "outputs": [
    {
     "name": "stdout",
     "output_type": "stream",
     "text": [
      "Total digits are: 5\n"
     ]
    }
   ],
   "source": [
    "num = 75869\n",
    "count = 0\n",
    "while num != 0:\n",
    "    # floor division\n",
    "    # to reduce the last digit from number\n",
    "    num = num // 10\n",
    "\n",
    "    # increment counter by 1\n",
    "    count = count + 1\n",
    "print(\"Total digits are:\", count)"
   ]
  },
  {
   "cell_type": "markdown",
   "id": "aacf840b-e881-4bb6-92d2-c8176813f39d",
   "metadata": {},
   "source": [
    "###  ex7-Write a program to use for loop to print the following reverse number pattern"
   ]
  },
  {
   "cell_type": "code",
   "execution_count": 6,
   "id": "dcfbb5ba-8dd0-4cc0-8099-4203e9af02b6",
   "metadata": {},
   "outputs": [
    {
     "name": "stdout",
     "output_type": "stream",
     "text": [
      "5 4 3 2 1 \n",
      "4 3 2 1 \n",
      "3 2 1 \n",
      "2 1 \n",
      "1 \n",
      "\n"
     ]
    }
   ],
   "source": [
    "n = 5\n",
    "k = 5\n",
    "for i in range(0,n+1):\n",
    "    for j in range(k-i,0,-1):\n",
    "        print(j,end=' ')\n",
    "    print()\n",
    "        \n",
    "    \n",
    "    "
   ]
  },
  {
   "cell_type": "markdown",
   "id": "3178de73-9b28-46cc-a475-8d105e43fe15",
   "metadata": {},
   "source": [
    "### Exercise 8: Print list in reverse order using a loop"
   ]
  },
  {
   "cell_type": "code",
   "execution_count": 7,
   "id": "910f49c5-b0bc-441e-910a-7a02aa191ccb",
   "metadata": {},
   "outputs": [
    {
     "name": "stdout",
     "output_type": "stream",
     "text": [
      "50\n",
      "40\n",
      "30\n",
      "20\n",
      "10\n"
     ]
    }
   ],
   "source": [
    "list = [10,20,30,40,50]\n",
    "rev_list = reversed(list)\n",
    "for i in rev_list:\n",
    "    print(i)"
   ]
  },
  {
   "cell_type": "markdown",
   "id": "7edf4c8c-821c-486c-bdbc-70176e3b43ed",
   "metadata": {},
   "source": [
    "### Exercise 11: Write a program to display all prime numbers within a range"
   ]
  },
  {
   "cell_type": "code",
   "execution_count": 13,
   "id": "7199f246-b4fd-4dd4-8000-a0edfe8e58f4",
   "metadata": {},
   "outputs": [
    {
     "name": "stdout",
     "output_type": "stream",
     "text": [
      "Prime numbers between 25 and 50 are:\n",
      "29\n",
      "31\n",
      "37\n",
      "41\n",
      "43\n",
      "47\n"
     ]
    }
   ],
   "source": [
    "start = 25\n",
    "end = 50\n",
    "print(\"Prime numbers between\", start, \"and\", end, \"are:\")\n",
    "\n",
    "for num in range(start, end + 1):\n",
    "    # all prime numbers are greater than 1\n",
    "    # if number is less than or equal to 1, it is not prime\n",
    "    if num > 1:\n",
    "        for i in range(2, num):\n",
    "            # check for factors\n",
    "            if (num % i) == 0:\n",
    "                # not a prime number so break inner loop and\n",
    "                # look for next number\n",
    "                break\n",
    "        else:\n",
    "            print(num)"
   ]
  },
  {
   "cell_type": "code",
   "execution_count": null,
   "id": "2cc0643f-8a8d-4ed0-8ad6-c40a03b6b560",
   "metadata": {},
   "outputs": [],
   "source": []
  }
 ],
 "metadata": {
  "kernelspec": {
   "display_name": "Python 3 (ipykernel)",
   "language": "python",
   "name": "python3"
  },
  "language_info": {
   "codemirror_mode": {
    "name": "ipython",
    "version": 3
   },
   "file_extension": ".py",
   "mimetype": "text/x-python",
   "name": "python",
   "nbconvert_exporter": "python",
   "pygments_lexer": "ipython3",
   "version": "3.9.13"
  }
 },
 "nbformat": 4,
 "nbformat_minor": 5
}
