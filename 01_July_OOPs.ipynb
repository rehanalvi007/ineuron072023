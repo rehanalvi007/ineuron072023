{
 "cells": [
  {
   "cell_type": "markdown",
   "id": "40f4a217-06d5-4e8b-9d9c-9a0cca26f5fe",
   "metadata": {},
   "source": [
    "# Assignment - 12"
   ]
  },
  {
   "cell_type": "markdown",
   "id": "9079851e-40e6-460e-8549-2bc5b3376d32",
   "metadata": {},
   "source": [
    "<h3>Q1. What is the primary goal of Object-Oriented Programming (OOP)?</h3>\n",
    "<p><strong>Ans - </strong>The primary goal of Object-Oriented Programming (OOP) is to model real-world entities and their interactions in a software system. It emphasizes organizing data and functionality into reusable, self-contained units called objects. These objects encapsulate data (attributes) and behavior (methods or functions) that relate to the entities they represent.</p>"
   ]
  },
  {
   "cell_type": "markdown",
   "id": "ad6f089b-cac1-42c9-a44e-34d3968b6f25",
   "metadata": {},
   "source": [
    "<h3>Q2. What is an object in Python?</h3>\n",
    "<p><strong>Ans - </strong> An Object is an instance of a Class. When a class is defined, no memory is allocated but when it is instantiated (i.e. an object is created) memory is allocated.<br>An object has an identity, state, and behavior. Each object contains data and code to manipulate the data.</p>"
   ]
  },
  {
   "cell_type": "markdown",
   "id": "798a9794-f47c-49c6-85e6-7d1d16598cdd",
   "metadata": {},
   "source": [
    "<h3>Q3. What is a class in Python?</h3>\n",
    "<p><strong>Ans -</strong> A class is a user-defined data type. It consists of data members and member functions, which can be accessed and used by creating an instance of that class. It represents the set of properties or methods that are common to all objects of one type. A class is like a blueprint for an object. </p>"
   ]
  },
  {
   "cell_type": "markdown",
   "id": "df2c83e5-8f27-412b-90bd-6ccbbb716b57",
   "metadata": {},
   "source": [
    "<h3>Q4. What are attributes and methods in a class?</h3>\n",
    "<p><strong>Ans - Attributes (Properties or Fields):</strong>\n",
    "Attributes are the data members of a class that represent the characteristics or state of the objects created from that class. They are essentially variables associated with the class and its instances (objects). Attributes define what data an object can hold, and each object of the class can have its own unique values for these attributes.</p>\n",
    "<p><strong>Methods (Functions or Behaviors):</strong>\n",
    "Methods are functions defined within a class that define the behaviors or actions that objects of the class can perform. They are used to operate on the attributes of the class and manipulate the data associated with objects.</p>"
   ]
  },
  {
   "cell_type": "markdown",
   "id": "e7c8ca0c-0701-4ea4-97ed-2561c5088f4e",
   "metadata": {},
   "source": [
    "<h3>Q5. What is the difference between class variables and instance variables in Python?</h3>\n",
    "<p><strong>Ans-</strong>Class variables and instance variables are two types of variables used within a class, but they have distinct scopes and purposes:\n",
    "<ul><strong>Class Variables:</strong>\n",
    "<li>Class variables are variables that are defined at the class level and are shared among all instances (objects) of that class.</li>\n",
    "<li>They are declared inside the class, outside of any method, and are usually placed near the top of the class definition.</li>\n",
    "<li>Class variables are accessible through the class itself, and any modification to the class variable affects all instances of that class.</li></ul>\n",
    "<ul><strong>Instance Variables:</strong>\n",
    "<li>Instance variables are specific to each instance (object) of the class. They are defined inside the class methods, typically within the constructor (__init__ method).</li>\n",
    "<li>Each object of the class has its own copy of instance variables, which means changes to these variables are isolated to the specific instance they belong to.</li>\n",
    "<li>Instance variables represent the unique state or characteristics of each object created from the class.</li>\n"
   ]
  },
  {
   "cell_type": "markdown",
   "id": "9e50fce9-f38e-40d1-9643-a5be30b260a6",
   "metadata": {},
   "source": [
    "<h3>Q6. What is the purpose of the self parameter in Python class methods?</h3>\n",
    "<p><strong>Ans - </strong>Self is a parameter that refer to current instance of the class and is used to access variables that belong to the class.<br>The self parameter is automatically passed to the method when we call it on an instance of the class. This means that when we call an instance method, Python automatically passes the instance itself as the first argument, allowing us to work with the specific instance's data.</p>"
   ]
  },
  {
   "cell_type": "markdown",
   "id": "ced513f2-9d92-40c6-b0eb-ed9f76ddbf1c",
   "metadata": {
    "tags": []
   },
   "source": [
    "<h3>Q7.For a library management system, you have to design the \"Book\" class with OOP\n",
    "principles in mind. The “Book” class will have following attributes:</h3>\n",
    "<li>title: Represents the title of the book.</li>\n",
    "<li>author: Represents the author(s) of the book.</li>\n",
    "<li>isbn: Represents the ISBN (International Standard Book Number) of the book.</li>\n",
    "<li>publication_year: Represents the year of publication of the book.</li>\n",
    "<li>available_copies: Represents the number of copies available for checkout.</li>\n",
    "The class will also include the following methods:\n",
    "<li>check_out(self): Decrements the available copies by one if there are copies\n",
    "available for checkout.</li>\n",
    "<li>return_book(self): Increments the available copies by one when a book is\n",
    "returned.</li>\n",
    "<li>display_book_info(self): Displays the information about the book, including its\n",
    "attributes and the number of available copies.</li>"
   ]
  },
  {
   "cell_type": "code",
   "execution_count": 2,
   "id": "7caca0e3-b3a8-4ae8-819f-fc045ea01e29",
   "metadata": {
    "tags": []
   },
   "outputs": [],
   "source": [
    "class Book:\n",
    "    def __init__(self,title,author,isbn,publication_year,available_copies):\n",
    "        self.title = title\n",
    "        self.author = author\n",
    "        self.isbn = isbn\n",
    "        self.publication_year = publication_year\n",
    "        self.available_copies = available_copies\n",
    "    def check_out(self):\n",
    "        if self.available_copies > 0 :\n",
    "            self.available_copies -=1\n",
    "            print(f\" Book {self.title}  checked out successfully\")\n",
    "        else:\n",
    "            print(f\" No copies are available for checkout\")\n",
    "    def return_book(self):\n",
    "        self.available_copies+=1\n",
    "        print(f\"Book '{self.title}' returned successfully.\")\n",
    "        \n",
    "    def display_book_info(self):\n",
    "        print(f\"Title: {self.title}\")\n",
    "        print(f\"Author(s): {self.author}\")\n",
    "        print(f\"ISBN: {self.isbn}\")\n",
    "        print(f\"Publication Year: {self.publication_year}\")\n",
    "        print(f\"Available Copies: {self.available_copies}\")\n",
    "        \n",
    "        "
   ]
  },
  {
   "cell_type": "code",
   "execution_count": 6,
   "id": "a1b2b745-f337-4b9a-bba1-72a192bc5b9e",
   "metadata": {
    "tags": []
   },
   "outputs": [
    {
     "name": "stdout",
     "output_type": "stream",
     "text": [
      "Title: Python Crash Course\n",
      "Author(s): Eric Matthes\n",
      "ISBN: 978-1593276034\n",
      "Publication Year: 2015\n",
      "Available Copies: 3\n",
      " Book Python Crash Course  checked out successfully\n",
      "Title: Python Crash Course\n",
      "Author(s): Eric Matthes\n",
      "ISBN: 978-1593276034\n",
      "Publication Year: 2015\n",
      "Available Copies: 2\n",
      "Book 'Python Crash Course' returned successfully.\n",
      "Title: Python Crash Course\n",
      "Author(s): Eric Matthes\n",
      "ISBN: 978-1593276034\n",
      "Publication Year: 2015\n",
      "Available Copies: 3\n"
     ]
    }
   ],
   "source": [
    "# Example usage:\n",
    "book1 = Book(\"Python Crash Course\", \"Eric Matthes\", \"978-1593276034\", 2015, 3)\n",
    "book1.display_book_info()  # Display book information\n",
    "book1.check_out()          # Checkout book (decrement available copies)\n",
    "\n",
    "book1.display_book_info()  # Display updated book information after checkout\n",
    "book1.return_book()        # Return book (increment available copies)\n",
    "\n",
    "book1.display_book_info()  # Display updated book information after return\n"
   ]
  },
  {
   "cell_type": "markdown",
   "id": "393fb00c-cd4d-40b0-9c56-5ec8266897cb",
   "metadata": {
    "tags": []
   },
   "source": [
    "<h3>Q8. For a ticket booking system, you have to design the \"Ticket\" class with OOP\n",
    "principles in mind. The “Ticket” class should have the following attributes:</h3>\n",
    "<li>ticket_id: Represents the unique identifier for the ticket.</li>\n",
    "<li>event_name: Represents the name of the event.</li>\n",
    "<li>event_date: Represents the date of the event.</li>\n",
    "<li>venue: Represents the venue of the event.</li>\n",
    "<li>seat_number: Represents the seat number associated with the ticket.</li>\n",
    "<li>price: Represents the price of the ticket.</li>\n",
    "<li>is_reserved: Represents the reservation status of the ticket.</li>\n",
    "The class also includes the following methods:\n",
    "<li>reserve_ticket(self): Marks the ticket as reserved if it is not already reserved.</li>\n",
    "<li>cancel_reservation(self): Cancels the reservation of the ticket if it is already\n",
    "reserved.</li>\n",
    "<li> display_ticket_info(self): Displays the information about the ticket, including its\n",
    "attributes and reservation status.</li>"
   ]
  },
  {
   "cell_type": "code",
   "execution_count": 12,
   "id": "cee42489-fc7a-480f-88da-1b1eab413ec8",
   "metadata": {
    "tags": []
   },
   "outputs": [],
   "source": [
    "class Ticket:\n",
    "    def __init__(self, ticket_id, event_name, event_date, venue, seat_number, price):\n",
    "        self.ticket_id = ticket_id\n",
    "        self.event_name = event_name\n",
    "        self.event_date = event_date\n",
    "        self.venue = venue\n",
    "        self.seat_number = seat_number\n",
    "        self.price = price\n",
    "        self.is_reserved = False\n",
    "\n",
    "    def reserve_ticket(self):\n",
    "        if not self.is_reserved:\n",
    "            self.is_reserved = True\n",
    "            print(f\"Ticket {self.ticket_id} for '{self.event_name}' is now reserved.\")\n",
    "        else:\n",
    "            print(f\"Ticket {self.ticket_id} is already reserved.\")\n",
    "\n",
    "    def cancel_reservation(self):\n",
    "        if self.is_reserved:\n",
    "            self.is_reserved = False\n",
    "            print(f\"Reservation for Ticket {self.ticket_id} has been canceled.\")\n",
    "        else:\n",
    "            print(f\"Ticket {self.ticket_id} is not reserved.\")\n",
    "\n",
    "    def display_ticket_info(self):\n",
    "        print(f\"Ticket ID: {self.ticket_id}\")\n",
    "        print(f\"Event Name: {self.event_name}\")\n",
    "        print(f\"Event Date: {self.event_date}\")\n",
    "        print(f\"Venue: {self.venue}\")\n",
    "        print(f\"Seat Number: {self.seat_number}\")\n",
    "        print(f\"Price: {self.price}\")\n",
    "        reservation_status = \"Reserved\" if self.is_reserved else \"Not Reserved\"\n",
    "        print(f\"Reservation Status: {reservation_status}\")\n",
    "\n",
    "\n"
   ]
  },
  {
   "cell_type": "code",
   "execution_count": 13,
   "id": "56234ab6-7380-4a91-949a-f00462e574e9",
   "metadata": {
    "tags": []
   },
   "outputs": [
    {
     "name": "stdout",
     "output_type": "stream",
     "text": [
      "Ticket ID: 1\n",
      "Event Name: Movie\n",
      "Event Date: 2023-08-20\n",
      "Venue: Mission Impossible\n",
      "Seat Number: A101\n",
      "Price: 50\n",
      "Reservation Status: Not Reserved\n",
      "Ticket 1 for 'Movie' is now reserved.\n",
      "Ticket ID: 1\n",
      "Event Name: Movie\n",
      "Event Date: 2023-08-20\n",
      "Venue: Mission Impossible\n",
      "Seat Number: A101\n",
      "Price: 50\n",
      "Reservation Status: Reserved\n",
      "Ticket 1 is already reserved.\n",
      "Reservation for Ticket 1 has been canceled.\n",
      "Ticket ID: 1\n",
      "Event Name: Movie\n",
      "Event Date: 2023-08-20\n",
      "Venue: Mission Impossible\n",
      "Seat Number: A101\n",
      "Price: 50\n",
      "Reservation Status: Not Reserved\n",
      "Ticket 2 is already reserved.\n",
      "Ticket ID: 2\n",
      "Event Name: Theater Play\n",
      "Event Date: 2023-09-10\n",
      "Venue: Grand Theater\n",
      "Seat Number: B205\n",
      "Price: 35\n",
      "Reservation Status: Reserved\n"
     ]
    }
   ],
   "source": [
    "\n",
    "ticket1 = Ticket(1, \"Movie\", \"2023-08-20\", \"Mission Impossible\", \"A101\", 50)\n",
    "\n",
    "\n",
    "ticket1.display_ticket_info()   # Display ticket information\n",
    "ticket1.reserve_ticket()        # Reserve ticket\n",
    "ticket1.display_ticket_info()   # Display updated ticket information after reservation\n",
    "ticket1.reserve_ticket()        # Try to reserve again (already reserved)\n",
    "ticket1.cancel_reservation()    # Cancel reservation\n",
    "ticket1.display_ticket_info()   # Display updated ticket information after cancellation\n",
    "ticket2.reserve_ticket()        # Reserve ticket\n",
    "ticket2.display_ticket_info()   # Display updated ticket information after reservation\n"
   ]
  },
  {
   "cell_type": "markdown",
   "id": "358bfd09-12bf-4266-b7fb-9bd963d06fe9",
   "metadata": {},
   "source": [
    "<h4>Q9. You are creating a shopping cart for an e-commerce website. Using OOP to model\n",
    "the \"ShoppingCart\" functionality the class should contain following attributes and\n",
    "methods:</h4>\n",
    "<li> items: Represents the list of items in the shopping cart.</li>\n",
    "The class also includes the following methods:\n",
    "\n",
    "<li>add_item(self, item): Adds an item to the shopping cart by appending it to the\n",
    "list of items.</li>\n",
    "<li> remove_item(self, item): Removes an item from the shopping cart if it exists in\n",
    "the list.</li>\n",
    "<li>view_cart(self): Displays the items currently present in the shopping cart.</li>\n",
    "<li>clear_cart(self): Clears all items from the shopping cart by reassigning an\n",
    "empty list to the items attribute.</li>"
   ]
  },
  {
   "cell_type": "code",
   "execution_count": 14,
   "id": "665fc4d2-614c-4e16-8f33-90d0b0762764",
   "metadata": {
    "tags": []
   },
   "outputs": [],
   "source": [
    "class ShoppingCart:\n",
    "    def __init__(self):\n",
    "        self.items = []\n",
    "\n",
    "    def add_item(self, item):\n",
    "        self.items.append(item)\n",
    "        print(f\"Item '{item}' added to the shopping cart.\")\n",
    "\n",
    "    def remove_item(self, item):\n",
    "        if item in self.items:\n",
    "            self.items.remove(item)\n",
    "            print(f\"Item '{item}' removed from the shopping cart.\")\n",
    "        else:\n",
    "            print(f\"Item '{item}' not found in the shopping cart.\")\n",
    "\n",
    "    def view_cart(self):\n",
    "        if not self.items:\n",
    "            print(\"Shopping cart is empty.\")\n",
    "        else:\n",
    "            print(\"Items in the shopping cart:\")\n",
    "            for item in self.items:\n",
    "                print(f\"- {item}\")\n",
    "\n",
    "    def clear_cart(self):\n",
    "        self.items = []\n",
    "        print(\"Shopping cart has been cleared.\")\n",
    "\n",
    "\n"
   ]
  },
  {
   "cell_type": "code",
   "execution_count": 15,
   "id": "556f0812-80dd-482d-a2d9-665d7ccc3fbd",
   "metadata": {
    "tags": []
   },
   "outputs": [
    {
     "name": "stdout",
     "output_type": "stream",
     "text": [
      "Item 'Laptop' added to the shopping cart.\n",
      "Item 'Smartphone' added to the shopping cart.\n",
      "Items in the shopping cart:\n",
      "- Laptop\n",
      "- Smartphone\n",
      "Item 'Smartphone' removed from the shopping cart.\n",
      "Items in the shopping cart:\n",
      "- Laptop\n",
      "Shopping cart has been cleared.\n",
      "Shopping cart is empty.\n"
     ]
    }
   ],
   "source": [
    "# Example usage:\n",
    "cart = ShoppingCart()\n",
    "\n",
    "cart.add_item(\"Laptop\")\n",
    "cart.add_item(\"Smartphone\")\n",
    "cart.view_cart()\n",
    "\n",
    "cart.remove_item(\"Smartphone\")\n",
    "cart.view_cart()\n",
    "\n",
    "cart.clear_cart()\n",
    "cart.view_cart()\n"
   ]
  },
  {
   "cell_type": "markdown",
   "id": "b1d1aff9-fbd9-4d26-909e-69b661116c8d",
   "metadata": {},
   "source": [
    "<h4>Q10. Imagine a school management system. You have to design the \"Student\" class using\n",
    "OOP concepts.The “Student” class has the following attributes:</h4>\n",
    "<li>name: Represents the name of the student.</li>\n",
    "<li>age: Represents the age of the student.</li>\n",
    "<li>grade: Represents the grade or class of the student.</li>\n",
    "<li>student_id: Represents the unique identifier for the student.</li>\n",
    "<li>attendance: Represents the attendance record of the student.</li>\n",
    "The class should also include the following methods:\n",
    "<li>update_attendance(self, date, status): Updates the attendance record of the\n",
    "student for a given date with the provided status (e.g., present or absent).</li>\n",
    "<li>get_attendance(self): Returns the attendance record of the student.</li>\n",
    "<li>get_average_attendance(self): Calculates and returns the average\n",
    "attendance percentage of the student based on their attendance record.</li>"
   ]
  },
  {
   "cell_type": "code",
   "execution_count": 16,
   "id": "fff71f30-030b-43ee-9285-febceb3d105d",
   "metadata": {
    "tags": []
   },
   "outputs": [],
   "source": [
    "class Student:\n",
    "    def __init__(self, name, age, grade, student_id):\n",
    "        self.name = name\n",
    "        self.age = age\n",
    "        self.grade = grade\n",
    "        self.student_id = student_id\n",
    "        self.attendance = {}\n",
    "\n",
    "    def update_attendance(self, date, status):\n",
    "        self.attendance[date] = status\n",
    "        print(f\"Attendance updated for {self.name} on {date}. Status: {status}\")\n",
    "\n",
    "    def get_attendance(self):\n",
    "        return self.attendance\n",
    "\n",
    "    def get_average_attendance(self):\n",
    "        if not self.attendance:\n",
    "            return 0.0\n",
    "\n",
    "        total_days = len(self.attendance)\n",
    "        present_days = list(self.attendance.values()).count('present')\n",
    "        attendance_percentage = (present_days / total_days) * 100\n",
    "        return round(attendance_percentage, 2)\n",
    "\n",
    "\n"
   ]
  },
  {
   "cell_type": "code",
   "execution_count": 17,
   "id": "088cc626-24b1-4a6b-93a9-c720d1441d80",
   "metadata": {
    "tags": []
   },
   "outputs": [
    {
     "name": "stdout",
     "output_type": "stream",
     "text": [
      "Attendance updated for John Doe on 2023-08-01. Status: present\n",
      "Attendance updated for John Doe on 2023-08-02. Status: absent\n",
      "Attendance updated for John Doe on 2023-08-03. Status: present\n",
      "Attendance Record: {'2023-08-01': 'present', '2023-08-02': 'absent', '2023-08-03': 'present'}\n",
      "Average Attendance Percentage: 66.67\n"
     ]
    }
   ],
   "source": [
    "# Example usage:\n",
    "student1 = Student(\"John Doe\", 15, \"10th\", \"12345\")\n",
    "student1.update_attendance(\"2023-08-01\", \"present\")\n",
    "student1.update_attendance(\"2023-08-02\", \"absent\")\n",
    "student1.update_attendance(\"2023-08-03\", \"present\")\n",
    "\n",
    "attendance_record = student1.get_attendance()\n",
    "print(\"Attendance Record:\", attendance_record)\n",
    "\n",
    "average_attendance = student1.get_average_attendance()\n",
    "print(\"Average Attendance Percentage:\", average_attendance)\n"
   ]
  },
  {
   "cell_type": "code",
   "execution_count": null,
   "id": "7c0f69b9-e202-42f8-841e-5bf1109a9f8f",
   "metadata": {},
   "outputs": [],
   "source": []
  }
 ],
 "metadata": {
  "kernelspec": {
   "display_name": "Python 3 (ipykernel)",
   "language": "python",
   "name": "python3"
  },
  "language_info": {
   "codemirror_mode": {
    "name": "ipython",
    "version": 3
   },
   "file_extension": ".py",
   "mimetype": "text/x-python",
   "name": "python",
   "nbconvert_exporter": "python",
   "pygments_lexer": "ipython3",
   "version": "3.11.3"
  }
 },
 "nbformat": 4,
 "nbformat_minor": 5
}
