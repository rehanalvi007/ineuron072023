{
 "cells": [
  {
   "cell_type": "markdown",
   "id": "475bdfc8-08e6-47ef-b85c-1a87a64254ed",
   "metadata": {
    "tags": []
   },
   "source": [
    "# Assignment - 12"
   ]
  },
  {
   "cell_type": "markdown",
   "id": "3435f101-1809-41ae-a45b-723116bd8456",
   "metadata": {},
   "source": [
    "<h3>Q1. What is the role of the 'else' block in a try-except statement? Provide an example\n",
    "scenario where it would be useful.</h3>\n",
    "<strong>Ans - </strong><p>The 'else' block is executed only when the 'try' block completes successfully without raising any exceptions.<br><strong>Example - <strong>"
   ]
  },
  {
   "cell_type": "code",
   "execution_count": 1,
   "id": "204e52ab-c13f-41ba-bf06-ecf4dd96e945",
   "metadata": {
    "tags": []
   },
   "outputs": [
    {
     "name": "stdout",
     "output_type": "stream",
     "text": [
      "Error: Cannot divide by zero!\n",
      "The result of 15 divided by 5 is: 3.0\n"
     ]
    }
   ],
   "source": [
    "def divide_numbers(a, b):\n",
    "    try:\n",
    "        result = a / b\n",
    "    except ZeroDivisionError:\n",
    "        print(\"Error: Cannot divide by zero!\")\n",
    "    else:\n",
    "        print(f\"The result of {a} divided by {b} is: {result}\")\n",
    "        \n",
    "divide_numbers(15,0)\n",
    "divide_numbers(15,5)"
   ]
  },
  {
   "cell_type": "markdown",
   "id": "44a79c40-2f48-4a49-bac0-63b1a306f258",
   "metadata": {},
   "source": [
    "<h3>Q2. Can a try-except block be nested inside another try-except block? Explain with an\n",
    "example.</h3>\n",
    "<strong> Ans - </strong> <p>Yes, a try-except block can be nested inside another try-except block in Python. This is called nested exception handling, and it allows you to handle different levels of errors in detail.</p>\n",
    "<strong>Example-</strong>"
   ]
  },
  {
   "cell_type": "code",
   "execution_count": 2,
   "id": "55911ad7-1c57-430a-a162-d9b95c5413e3",
   "metadata": {
    "tags": []
   },
   "outputs": [],
   "source": [
    "def Div_Num(x,y,z):\n",
    "    try:\n",
    "        result = x / y\n",
    "        try:\n",
    "            result /= z\n",
    "        except ZeroDivisionError:\n",
    "            print(\"Error: Cannot divide by zero (inner try-except)!\")\n",
    "    except ZeroDivisionError:\n",
    "        print(\"Error: Cannot divide by zero (outer try-except)!\")\n",
    "    else:\n",
    "        print(f\"The final result is: {result}\")\n",
    "                      \n",
    "      "
   ]
  },
  {
   "cell_type": "code",
   "execution_count": 3,
   "id": "78e8a8a2-4f50-4bd2-bf33-2f0b7c0ac5c2",
   "metadata": {
    "tags": []
   },
   "outputs": [
    {
     "name": "stdout",
     "output_type": "stream",
     "text": [
      "Error: Cannot divide by zero (inner try-except)!\n",
      "The final result is: 5.0\n",
      "Error: Cannot divide by zero (outer try-except)!\n",
      "The final result is: 0.4\n"
     ]
    }
   ],
   "source": [
    "Div_Num(10,2,0)\n",
    "Div_Num(10,0,5)\n",
    "Div_Num(10,5,5)"
   ]
  },
  {
   "cell_type": "markdown",
   "id": "5101ccdc-43ab-45bf-9562-e208e651cf8e",
   "metadata": {},
   "source": [
    "<h3>Q3. How can you create a custom exception class in Python? Provide an example that\n",
    "demonstrates its usage.</h3>\n",
    "<strong>Ans-</strong>we can create a custom exception class by inheriting from the built-in Exception class or any other existing exception class.\n",
    "<strong>Example - </strong>"
   ]
  },
  {
   "cell_type": "code",
   "execution_count": 4,
   "id": "3c48f9af-22a9-4619-b46a-2ba7e9343c87",
   "metadata": {
    "tags": []
   },
   "outputs": [],
   "source": [
    "class WrongAge(Exception):\n",
    "    \"Raised when the input value is less than 100\"\n",
    "    pass"
   ]
  },
  {
   "cell_type": "code",
   "execution_count": 5,
   "id": "dcfac383-463a-45ec-b3d9-fb2419864c9e",
   "metadata": {
    "tags": []
   },
   "outputs": [
    {
     "name": "stdin",
     "output_type": "stream",
     "text": [
      "Enter a age:  17\n"
     ]
    },
    {
     "name": "stdout",
     "output_type": "stream",
     "text": [
      "Invalid Age: You are not allowed to work\n"
     ]
    }
   ],
   "source": [
    "n = 18\n",
    "\n",
    "try:\n",
    "    input_num = int(input(\"Enter a age: \"))\n",
    "    if input_num < n:\n",
    "        raise WrongAge # this will call above user defin exception\n",
    "    else:\n",
    "        print(\"You can work\")\n",
    "except WrongAge:\n",
    "    print(\"Invalid Age: You are not allowed to work\")"
   ]
  },
  {
   "cell_type": "markdown",
   "id": "c68783d1-b048-481e-8f5a-cbdd5492c559",
   "metadata": {
    "tags": []
   },
   "source": [
    "<h3>4. What are some common exceptions that are built-in to Python?</h3>\n",
    "<strong>Ans - </strong><p><strong>Some of the most common types of exceptions are:</strong></p>\n",
    "<ul>\n",
    "<li>\n",
    "<p><strong>ZeroDivisionError:</strong> Raised when the second argument of a division or modulo operation is zero.</p>\n",
    "</li>\n",
    "<li>\n",
    "<p><strong>TypeError:</strong> Raised when an operation or function is applied to an object of inappropriate type.</p>\n",
    "</li>\n",
    "<li>\n",
    "<p><strong>ValueError:</strong> Raised when a built-in operation or function receives an argument that has the right type but an inappropriate value.</p>\n",
    "</li>\n",
    "<li>\n",
    "<p><strong>IndexError:</strong> Raised when a sequence subscript is out of range.</p>\n",
    "</li>\n",
    "<li>\n",
    "<p><strong>KeyError:</strong> Raised when a dictionary key is not found.</p>\n",
    "</li>\n",
    "<li>\n",
    "<p><strong>FileNotFoundError:</strong> Raised when a file or directory is requested but doesn&rsquo;t exist.</p>\n",
    "</li>\n",
    "<li>\n",
    "<p><strong>IOError:</strong> Raised when an I/O operation (such as a print statement, the built-in open() function or a method of a file object) fails for an I/O-related reason.</p>\n",
    "</li>\n",
    "<li>\n",
    "<p><strong>ImportError:</strong> Raised when an import statement fails to find the module definition or when a from ... import fails to find a name that is to be imported.</p>\n",
    "</li>\n",
    "<li>\n",
    "<p><strong>MemoryError:</strong> Raised when an operation runs out of memory.</p>\n",
    "</li>\n",
    "<li>\n",
    "<p><strong>OverflowError:</strong> Raised when the result of an arithmetic operation is too large to be expressed by the normal number format.</p>\n",
    "</li>\n",
    "<li>\n",
    "<p><strong>AttributeError:</strong> Raised when an attribute reference or assignment fails.</p>\n",
    "</li>\n",
    "<li>\n",
    "<p><strong>SyntaxError:</strong> Raised when the parser encounters a syntax error.</p>\n",
    "</li>\n",
    "<li>\n",
    "<p><strong>IndentationError:</strong> Raised when there is incorrect indentation.</p>\n",
    "</li>\n",
    "<li>\n",
    "<p><strong>NameError:</strong> Raised when a local or global name is not found.</p>\n",
    "</li>\n",
    "</ul>"
   ]
  },
  {
   "cell_type": "markdown",
   "id": "7cef6225-ed2e-4dd5-8731-d0aecb9c3d00",
   "metadata": {
    "tags": []
   },
   "source": [
    "<h3>Q5. What is logging in Python, and why is it important in software development?</h3>\n",
    "<p><strong>Ans - </strong> Logging is a means of tracking events that happen when some software runs. Logging is important for software developing, debugging, and running. If we don’t have any logging record and our program crashes, there are very few chances that we detect the cause of the problem. And if we detect the cause, it will consume a lot of time.</p>\n"
   ]
  },
  {
   "cell_type": "markdown",
   "id": "e20249a3-f416-47de-a219-e2ed79a04c3b",
   "metadata": {},
   "source": [
    "<h3>Q6. Explain the purpose of log levels in Python logging and provide examples of when\n",
    "each log level would be appropriate.</h3>\n",
    "<p><strong>Ans - </strong>Log levels in Python logging provide a way to categorize and prioritize log messages based on their severity. They allow developers to control which log messages are captured and displayed based on the log level set for the logger. The logging module defines several log levels, each serving a specific purpose, from least severe to most severe:</p>\n",
    " <ul>\n",
    "<li>DEBUG: Detailed information, typically of interest only when diagnosing problems.</li>\n",
    "<li>INFO: Confirmation that things are working as expected.</li>\n",
    "<li>WARNING: An indication that something unexpected happened, or may happen in the future (e.g. &lsquo;disk space low&rsquo;). The software is still working as expected.</li>\n",
    "<li>ERROR: More serious problem that prevented the software from performing a function.</li>\n",
    "<li>CRITICAL: A very serious error, indicating that the program itself may be unable to continue running.</li>\n",
    "</ul>\n",
    "</li>\n",
    "</ul>"
   ]
  },
  {
   "cell_type": "code",
   "execution_count": 6,
   "id": "1637b40b-214a-4756-9f26-defc37560ee8",
   "metadata": {
    "tags": []
   },
   "outputs": [
    {
     "name": "stderr",
     "output_type": "stream",
     "text": [
      "DEBUG:root:Variables are 1 and 2\n"
     ]
    },
    {
     "data": {
      "text/plain": [
       "3"
      ]
     },
     "execution_count": 6,
     "metadata": {},
     "output_type": "execute_result"
    }
   ],
   "source": [
    "#Debug\n",
    "import logging\n",
    "\n",
    "logging.basicConfig(level=logging.DEBUG)\n",
    "\n",
    "def add(x, y):\n",
    "    logging.debug('Variables are %s and %s', x, y)\n",
    "    return x + y\n",
    "\n",
    "add(1, 2)\n"
   ]
  },
  {
   "cell_type": "code",
   "execution_count": 7,
   "id": "88af2556-4006-4cca-90ac-12ef26f86295",
   "metadata": {
    "tags": []
   },
   "outputs": [
    {
     "name": "stderr",
     "output_type": "stream",
     "text": [
      "INFO:root:User Admin User logged in\n"
     ]
    }
   ],
   "source": [
    "# Info\n",
    "import logging\n",
    "\n",
    "logging.basicConfig(level=logging.INFO)\n",
    "\n",
    "def login(user):\n",
    "    logging.info('User %s logged in', user)\n",
    "\n",
    "login('Admin User')"
   ]
  },
  {
   "cell_type": "code",
   "execution_count": 8,
   "id": "15078cf8-dfdd-4885-aad0-142823442ed2",
   "metadata": {
    "tags": []
   },
   "outputs": [
    {
     "name": "stderr",
     "output_type": "stream",
     "text": [
      "WARNING:root:Sorry you have Low balance: 10000\n"
     ]
    }
   ],
   "source": [
    "# Warning\n",
    "import logging\n",
    "\n",
    "logging.basicConfig(level=logging.WARNING)\n",
    "\n",
    "def MyBalance(amount):\n",
    "    if amount < 40000:\n",
    "        logging.warning('Sorry you have Low balance: %s', amount)\n",
    "\n",
    "MyBalance(10000)\n"
   ]
  },
  {
   "cell_type": "code",
   "execution_count": 9,
   "id": "768d96a4-2141-419b-9e97-9556bde3871c",
   "metadata": {
    "tags": []
   },
   "outputs": [
    {
     "name": "stderr",
     "output_type": "stream",
     "text": [
      "ERROR:root:You are trying to divide by zero, which is not allowed\n"
     ]
    }
   ],
   "source": [
    "# Error\n",
    "import logging\n",
    "\n",
    "logging.basicConfig(level=logging.ERROR)\n",
    "\n",
    "def LetUsDivide(n, d):\n",
    "    try:\n",
    "        result = n / d\n",
    "    except ZeroDivisionError:\n",
    "        logging.error('You are trying to divide by zero, which is not allowed')\n",
    "    else:\n",
    "        return result\n",
    "\n",
    "LetUsDivide(4, 0)"
   ]
  },
  {
   "cell_type": "code",
   "execution_count": 10,
   "id": "e81c63ba-ef43-48c4-b0e1-a7f58949e5ef",
   "metadata": {
    "tags": []
   },
   "outputs": [
    {
     "name": "stderr",
     "output_type": "stream",
     "text": [
      "CRITICAL:root:System failure: You need to handle the issue now\n"
     ]
    }
   ],
   "source": [
    "# Critical Errors\n",
    "import logging\n",
    "\n",
    "logging.basicConfig(level=logging.CRITICAL)\n",
    "\n",
    "def LetUsCheckSystem(sys):\n",
    "    if sys != 'OK':\n",
    "        logging.critical('System failure: %s', sys)\n",
    "\n",
    "LetUsCheckSystem('You need to handle the issue now')\n"
   ]
  },
  {
   "cell_type": "markdown",
   "id": "3607d5a1-e429-46eb-9bac-a7b16178099b",
   "metadata": {},
   "source": [
    "<h3>Q7. What are log formatters in Python logging, and how can you customise the log\n",
    "message format using formatters?</h3>\n",
    "<p><strong>Ans - </strong>In Python's logging module, log formatters are used to customize the format of log messages. A log formatter is responsible for defining how log records are converted into a string representation. <br>By default, Python's logging module provides a basic formatter that includes information such as log level, timestamp, logger name, and log message. However, we can customize the log message format using formatters to suit our specific needs.</p>"
   ]
  },
  {
   "cell_type": "code",
   "execution_count": 11,
   "id": "9be918c3-318a-4a08-9b07-8bf4a3cfc089",
   "metadata": {
    "tags": []
   },
   "outputs": [
    {
     "name": "stderr",
     "output_type": "stream",
     "text": [
      "2023-08-05 11:16:17,266 - my_logger - INFO - This is an info message.\n",
      "INFO:my_logger:This is an info message.\n",
      "2023-08-05 11:16:17,281 - my_logger - WARNING - This is a warning message.\n",
      "WARNING:my_logger:This is a warning message.\n",
      "2023-08-05 11:16:17,281 - my_logger - ERROR - This is an error message.\n",
      "ERROR:my_logger:This is an error message.\n"
     ]
    }
   ],
   "source": [
    "#import logging module\n",
    "import logging\n",
    "#create a logger\n",
    "logger = logging.getLogger('my_logger')\n",
    "# create a formatter object\n",
    "formatter = logging.Formatter('%(asctime)s - %(name)s - %(levelname)s - %(message)s')\n",
    "# create a handler\n",
    "handler = logging.StreamHandler()  # This will log to console. we can use other handlers for different log destinations.\n",
    "handler.setFormatter(formatter)\n",
    "# Attach handler to logger\n",
    "logger.addHandler(handler)\n",
    "logger.info('This is an info message.')\n",
    "logger.warning('This is a warning message.')\n",
    "logger.error('This is an error message.')\n",
    "\n",
    "\n"
   ]
  },
  {
   "cell_type": "markdown",
   "id": "24075bd3-db63-49de-a76e-b4ac51ec9dd7",
   "metadata": {},
   "source": [
    "<h3> Q8. How can you set up logging to capture log messages from multiple modules or\n",
    "classes in a Python application?</h3>\n",
    "<p><strong>Ans - </strong> To capture log messages from multiple modules or classes in a Python application, we need to follow these steps:"
   ]
  },
  {
   "cell_type": "code",
   "execution_count": 12,
   "id": "bce9f5b9-f004-496e-9b27-895f5eb5826e",
   "metadata": {
    "tags": []
   },
   "outputs": [],
   "source": [
    "# Import modules\n",
    "import logging\n",
    "# Create a logger\n",
    "logger = logging.getLogger('my_logger')\n",
    "logger.setLevel(logging.DEBUG)\n",
    "# Create a handler and associate it with a formatter\n",
    "formatter = logging.Formatter('%(asctime)s - %(name)s - %(levelname)s - %(message)s')\n",
    "handler = logging.StreamHandler()  # This will log to console. we can use other handlers for different log destinations.\n",
    "handler.setFormatter(formatter)\n",
    "# Attach the handler to the logger:\n",
    "logger.addHandler(handler)\n",
    "# In module1.py\n",
    "logger = logging.getLogger('my_logger')\n",
    "\n",
    "class MyClass1:\n",
    "    def some_method(self):\n",
    "        logger.info('This is a log message from MyClass1.')\n",
    "\n",
    "# In module2.py\n",
    "logger = logging.getLogger('my_logger')\n",
    "\n",
    "class MyClass2:\n",
    "    def some_method(self):\n",
    "        logger.info('This is a log message from MyClass2.')\n",
    "\n",
    "\n"
   ]
  },
  {
   "cell_type": "code",
   "execution_count": 13,
   "id": "80a628f2-f663-49ae-8c89-075ea61dc164",
   "metadata": {
    "tags": []
   },
   "outputs": [
    {
     "name": "stderr",
     "output_type": "stream",
     "text": [
      "2023-08-05 11:16:22,949 - my_logger - INFO - This is a log message from MyClass1.\n",
      "2023-08-05 11:16:22,949 - my_logger - INFO - This is a log message from MyClass1.\n",
      "INFO:my_logger:This is a log message from MyClass1.\n",
      "2023-08-05 11:16:22,949 - my_logger - INFO - This is a log message from MyClass2.\n",
      "2023-08-05 11:16:22,949 - my_logger - INFO - This is a log message from MyClass2.\n",
      "INFO:my_logger:This is a log message from MyClass2.\n"
     ]
    }
   ],
   "source": [
    "#from module1 import MyClass1\n",
    "#from module2 import MyClass2\n",
    "\n",
    "my_object1 = MyClass1()\n",
    "my_object2 = MyClass2()\n",
    "\n",
    "my_object1.some_method()\n",
    "my_object2.some_method()\n"
   ]
  },
  {
   "cell_type": "markdown",
   "id": "fe5adb37-957c-412d-b06e-c23f320f6ceb",
   "metadata": {},
   "source": [
    "<h3>Q9. What is the difference between the logging and print statements in Python? When\n",
    "should you use logging over print statements in a real-world application?</h3>\n",
    "<p><strong>Ans - </strong> Difference between logging and print statements in python are: </p>\n",
    "<ol> <strong>Logging</strong><li>Record events and errors that occur during the execution of Python programs.</li>\n",
    "    <li>Mainly used in the production environment.<li>Some features are: Log levels, filtering, formatting, and more.</li><li>It provides different log levels such as Debug, Info, Error, Warning, and Critical.</ol>\n",
    "<ol><strong>Print</strong><li>Displays the information to the console for the debugging purposes.</li><li>Mainly used for debugging.</li><li>There are no good features.<li>It does not have any levels, it simply prints whatever is passed to it.</li></ol><br><p> <code>print</code> statements are convenient for quick debugging and immediate output, using the <code>logging</code> module offers more power, flexibility, and control over logging, making it a better choice for real-world applications that require robust and structured logging capabilities."
   ]
  },
  {
   "cell_type": "markdown",
   "id": "2286a8df-3802-42ce-a5e2-6fa1189e205e",
   "metadata": {},
   "source": [
    "<h3>10. Write a Python program that logs a message to a file named \"app.log\" with the\n",
    "following requirements:</h3><h4><li>\n",
    "    The log message should be \"Hello, World!\"</li>\n",
    "    <li>The log level should be set to \"INFO.\"</li>\n",
    "    <li>The log file should append new log entries without overwriting previous ones.</li></h4>"
   ]
  },
  {
   "cell_type": "code",
   "execution_count": 14,
   "id": "42157e88-5fb0-4922-b1fc-4361129e9582",
   "metadata": {
    "tags": []
   },
   "outputs": [
    {
     "name": "stderr",
     "output_type": "stream",
     "text": [
      "2023-08-05 11:16:28,684 - my_logger - INFO - Hello, World!\n",
      "2023-08-05 11:16:28,684 - my_logger - INFO - Hello, World!\n",
      "INFO:my_logger:Hello, World!\n"
     ]
    }
   ],
   "source": [
    "import logging\n",
    "\n",
    "def setup_logging():\n",
    "    # Step 1: Create a logger\n",
    "    logger = logging.getLogger('my_logger')\n",
    "    logger.setLevel(logging.INFO)\n",
    "\n",
    "    # Step 2: Create a file handler and set the log file to append mode\n",
    "    file_handler = logging.FileHandler('app.log', mode='a')\n",
    "\n",
    "    # Step 3: Create a formatter and attach it to the file handler\n",
    "    formatter = logging.Formatter('%(asctime)s - %(levelname)s - %(message)s')\n",
    "    file_handler.setFormatter(formatter)\n",
    "\n",
    "    # Step 4: Attach the file handler to the logger\n",
    "    logger.addHandler(file_handler)\n",
    "\n",
    "    return logger\n",
    "\n",
    "def main():\n",
    "    logger = setup_logging()\n",
    "    logger.info(\"Hello, World!\")\n",
    "\n",
    "if __name__ == \"__main__\":\n",
    "    main()\n"
   ]
  },
  {
   "cell_type": "markdown",
   "id": "27159b07-8a30-4ad8-9a1c-8f80d4257c95",
   "metadata": {},
   "source": [
    "<h3>Q11. Create a Python program that logs an error message to the console and a file named\n",
    "\"errors.log\" if an exception occurs during the program's execution. The error\n",
    "message should include the exception type and a timestamp.</h3>"
   ]
  },
  {
   "cell_type": "code",
   "execution_count": 15,
   "id": "70aab19e-b169-44b7-aac3-c12f915feda0",
   "metadata": {
    "tags": []
   },
   "outputs": [
    {
     "name": "stderr",
     "output_type": "stream",
     "text": [
      "2023-08-05 11:16:29,909 - ERROR - 2023-08-05 11:16:29 - Exception: ValueError - This is a sample exception.\n",
      "ERROR:error_logger:2023-08-05 11:16:29 - Exception: ValueError - This is a sample exception.\n",
      "2023-08-05 11:16:29,925 - ERROR - Traceback (most recent call last):\n",
      "  File \"C:\\Users\\Rehan\\AppData\\Local\\Temp\\ipykernel_17964\\2234092735.py\", line 34, in main\n",
      "    raise ValueError(\"This is a sample exception.\")\n",
      "ValueError: This is a sample exception.\n",
      "\n",
      "ERROR:error_logger:Traceback (most recent call last):\n",
      "  File \"C:\\Users\\Rehan\\AppData\\Local\\Temp\\ipykernel_17964\\2234092735.py\", line 34, in main\n",
      "    raise ValueError(\"This is a sample exception.\")\n",
      "ValueError: This is a sample exception.\n",
      "\n"
     ]
    }
   ],
   "source": [
    "import logging\n",
    "import traceback\n",
    "import datetime\n",
    "\n",
    "def setup_logging():\n",
    "    # Create a logger\n",
    "    logger = logging.getLogger('error_logger')\n",
    "    logger.setLevel(logging.ERROR)\n",
    "\n",
    "    # Create a console handler and set the log level to ERROR\n",
    "    console_handler = logging.StreamHandler()\n",
    "    console_handler.setLevel(logging.ERROR)\n",
    "\n",
    "    # Create a file handler and set the log file to append mode\n",
    "    file_handler = logging.FileHandler('errors.log', mode='a')\n",
    "\n",
    "    # Create a formatter and attach it to the handlers\n",
    "    formatter = logging.Formatter('%(asctime)s - %(levelname)s - %(message)s')\n",
    "    console_handler.setFormatter(formatter)\n",
    "    file_handler.setFormatter(formatter)\n",
    "\n",
    "    # Attach the handlers to the logger\n",
    "    logger.addHandler(console_handler)\n",
    "    logger.addHandler(file_handler)\n",
    "\n",
    "    return logger\n",
    "\n",
    "def main():\n",
    "    logger = setup_logging()\n",
    "\n",
    "    try:\n",
    "        # our main program logic goes here\n",
    "        # For demonstration purposes, we'll raise a sample exception\n",
    "        raise ValueError(\"This is a sample exception.\")\n",
    "    except Exception as e:\n",
    "        # Log the exception with the error level\n",
    "        timestamp = datetime.datetime.now().strftime('%Y-%m-%d %H:%M:%S')\n",
    "        error_msg = f\"{timestamp} - Exception: {type(e).__name__} - {e}\"\n",
    "        logger.error(error_msg)\n",
    "        logger.error(traceback.format_exc())  # Log the traceback as well\n",
    "\n",
    "if __name__ == \"__main__\":\n",
    "    main()\n"
   ]
  },
  {
   "cell_type": "code",
   "execution_count": null,
   "id": "bdfcc97d-936f-4830-937e-430d3b5dab53",
   "metadata": {},
   "outputs": [],
   "source": []
  },
  {
   "cell_type": "code",
   "execution_count": null,
   "id": "a2cb831c-0a7a-4eb5-9104-c329c8513cee",
   "metadata": {},
   "outputs": [],
   "source": []
  }
 ],
 "metadata": {
  "kernelspec": {
   "display_name": "Python 3 (ipykernel)",
   "language": "python",
   "name": "python3"
  },
  "language_info": {
   "codemirror_mode": {
    "name": "ipython",
    "version": 3
   },
   "file_extension": ".py",
   "mimetype": "text/x-python",
   "name": "python",
   "nbconvert_exporter": "python",
   "pygments_lexer": "ipython3",
   "version": "3.11.3"
  }
 },
 "nbformat": 4,
 "nbformat_minor": 5
}
