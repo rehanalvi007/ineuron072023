{
 "cells": [
  {
   "cell_type": "markdown",
   "id": "58568f5a-5282-43a5-8b28-f113a40a9179",
   "metadata": {},
   "source": [
    "# Assignment-6"
   ]
  },
  {
   "cell_type": "markdown",
   "id": "a943e0e4-b1d5-4830-9e74-1ebe096cabb4",
   "metadata": {},
   "source": [
    "### Q.1. What are keywords in python? Using the keyword library, print all the python keywords?\n",
    "Ans - Keywords in python are the reserved word ythat cannot be used as variable name, function name or any other identifier"
   ]
  },
  {
   "cell_type": "code",
   "execution_count": 4,
   "id": "e3bd09b8-5108-4047-8d69-ff58bfa88ad9",
   "metadata": {},
   "outputs": [
    {
     "name": "stdout",
     "output_type": "stream",
     "text": [
      "The list of keywords are : \n",
      "['False', 'None', 'True', '__peg_parser__', 'and', 'as', 'assert', 'async', 'await', 'break', 'class', 'continue', 'def', 'del', 'elif', 'else', 'except', 'finally', 'for', 'from', 'global', 'if', 'import', 'in', 'is', 'lambda', 'nonlocal', 'not', 'or', 'pass', 'raise', 'return', 'try', 'while', 'with', 'yield']\n"
     ]
    }
   ],
   "source": [
    "\n",
    "# importing \"keyword\" for keyword operations\n",
    "import keyword\n",
    " \n",
    "# printing all keywords at once using \"kwlist()\"\n",
    "print(\"The list of keywords are : \")\n",
    "print(keyword.kwlist)"
   ]
  },
  {
   "cell_type": "markdown",
   "id": "017eada0-fb27-4b0f-9036-3fe933533eb0",
   "metadata": {},
   "source": [
    "### Q.2. What are the rules to create variables in python?\n",
    " <li>The variable name in python must start with letter or the underscore character.</li>\n",
    "       <li>The variable name cannot start with a number. </li>\n",
    "     <li> A Python variable name can only contain alpha-numeric characters and underscores (A-z, 0-9, and _ ).</li>\n",
    "    <li> The reserved words(keywords) in Python cannot be used to name the variable in Python. </li>\n",
    "     <li> Variable in Python names are case-sensitive (name, Name, and NAME are three different variables).</li>\n",
    "\n"
   ]
  },
  {
   "cell_type": "markdown",
   "id": "dbcd2363-7b1a-4741-81d4-f314f8980ad9",
   "metadata": {},
   "source": [
    "### Q.3. What are the standards and conventions followed for the nomenclature of variables in python to improve code readability and maintainability?\n",
    "<li> Use a lowercase single letter, word, or words and separate words with underscores to improve readability.</li>\n",
    "    <li>Meaningful and understandable variables name helps anyone to understand the reason of using it.</li>\n",
    "    <li> Local variables should be named using camel case lettering starting with small letter (e.g. localData)</li>          <li>Global variables names should start with a capital letter (e.g. GlobalData).</li>\n",
    "    "
   ]
  },
  {
   "cell_type": "markdown",
   "id": "516f6aee-02c1-4c40-b784-62dabdb7ccb1",
   "metadata": {},
   "source": [
    "### Q.4. What will happen if a keyword is used as a variable name?\n",
    "Ans - We cannot use keywords as variable names as they are reserved names that are built-in to Python. \n",
    "<li>For example, continue = 'Python' The above code is wrong because we have used continue as a variable name.</li>"
   ]
  },
  {
   "cell_type": "markdown",
   "id": "73713c8b-516c-4113-8f56-f8b77488601f",
   "metadata": {},
   "source": [
    "### Q.5. For what purpose def keyword is used?\n",
    "Python def keyword is used to define a function, it is placed before a function name that is provided by the user to create a user-defined function."
   ]
  },
  {
   "cell_type": "code",
   "execution_count": 7,
   "id": "0239d684-877c-4ba5-ae7d-734a58f4d0d1",
   "metadata": {},
   "outputs": [
    {
     "name": "stdout",
     "output_type": "stream",
     "text": [
      "Hello\n"
     ]
    }
   ],
   "source": [
    "#Python def Syntax\n",
    "def python_def_keyword():\n",
    "    print(\"Hello\")\n",
    "python_def_keyword()"
   ]
  },
  {
   "cell_type": "markdown",
   "id": "7130a108-41c9-4649-806c-6437e5a30114",
   "metadata": {},
   "source": [
    "### Q.6. What is the operation of this special character ‘\\’?\n",
    "Ans - In Python, the backslash(\\) is a special character. If we use the backslash in front of another character, it changes the meaning of that character.\n",
    "<li>For example :- tab character (\\t) and new line character \\n </li>"
   ]
  },
  {
   "cell_type": "markdown",
   "id": "196f78b4-2d89-4d7f-ade4-07f0ddf7dc64",
   "metadata": {},
   "source": [
    "### Q.7. Give an example of the following conditions:\n",
    "<li>(i) Homogeneous list - [\"Python\",\"numpy\",\"SQL\"]</li>\n",
    "<li>(ii) Heterogeneous set - {\"python\", \"for\", 10, 52.7, True}</li>\n",
    "<li>(iii) Homogeneous tuple - (\"mysql\",\"Pandas\",\"Matplotlib\")</li>"
   ]
  },
  {
   "cell_type": "markdown",
   "id": "eda47256-ae16-4b9b-a99f-bf4e165ff515",
   "metadata": {},
   "source": [
    "### Q.8. Explain the mutable and immutable data types with proper explanation & examples.\n",
    "Ans - <li>Mutable data types - Mutable data types are those data types which can be changed or modified after its creation.</li>\n",
    "<li>Immutable data types - They can't be changed after its creation .</li>"
   ]
  },
  {
   "cell_type": "code",
   "execution_count": 9,
   "id": "47079a58-197e-4225-bf8f-1a2f1648f0ef",
   "metadata": {},
   "outputs": [
    {
     "name": "stdout",
     "output_type": "stream",
     "text": [
      "[1, 2, 3, 4]\n"
     ]
    }
   ],
   "source": [
    "#For example\n",
    "# Lists are mutable in Python.\n",
    "\n",
    "my_list = [1, 2, 3]\n",
    "my_list.append(4)\n",
    "print(my_list)"
   ]
  },
  {
   "cell_type": "code",
   "execution_count": 10,
   "id": "e283cbab-0f0f-4b8b-98d2-e136b866cafd",
   "metadata": {},
   "outputs": [
    {
     "ename": "TypeError",
     "evalue": "'tuple' object does not support item assignment",
     "output_type": "error",
     "traceback": [
      "\u001b[1;31m---------------------------------------------------------------------------\u001b[0m",
      "\u001b[1;31mTypeError\u001b[0m                                 Traceback (most recent call last)",
      "\u001b[1;32m~\\AppData\\Local\\Temp\\ipykernel_11496\\133200836.py\u001b[0m in \u001b[0;36m<module>\u001b[1;34m\u001b[0m\n\u001b[0;32m      4\u001b[0m \u001b[1;33m\u001b[0m\u001b[0m\n\u001b[0;32m      5\u001b[0m \u001b[0mtuple1\u001b[0m \u001b[1;33m=\u001b[0m \u001b[1;33m(\u001b[0m\u001b[1;36m0\u001b[0m\u001b[1;33m,\u001b[0m \u001b[1;36m1\u001b[0m\u001b[1;33m,\u001b[0m \u001b[1;36m2\u001b[0m\u001b[1;33m,\u001b[0m \u001b[1;36m3\u001b[0m\u001b[1;33m)\u001b[0m\u001b[1;33m\u001b[0m\u001b[1;33m\u001b[0m\u001b[0m\n\u001b[1;32m----> 6\u001b[1;33m \u001b[0mtuple1\u001b[0m\u001b[1;33m[\u001b[0m\u001b[1;36m0\u001b[0m\u001b[1;33m]\u001b[0m \u001b[1;33m=\u001b[0m \u001b[1;36m4\u001b[0m\u001b[1;33m\u001b[0m\u001b[1;33m\u001b[0m\u001b[0m\n\u001b[0m\u001b[0;32m      7\u001b[0m \u001b[0mprint\u001b[0m\u001b[1;33m(\u001b[0m\u001b[0mtuple1\u001b[0m\u001b[1;33m)\u001b[0m\u001b[1;33m\u001b[0m\u001b[1;33m\u001b[0m\u001b[0m\n",
      "\u001b[1;31mTypeError\u001b[0m: 'tuple' object does not support item assignment"
     ]
    }
   ],
   "source": [
    "#Immutable Example\n",
    "# Python code to test that\n",
    "# tuples are immutable\n",
    "\n",
    "tuple1 = (0, 1, 2, 3)\n",
    "tuple1[0] = 4\n",
    "print(tuple1)\n"
   ]
  },
  {
   "cell_type": "markdown",
   "id": "ae050010-98ac-4e3a-b6cc-005173be6fd0",
   "metadata": {},
   "source": [
    "### Q.9. Write a code to create the given structure using only for loop.\n",
    "\n",
    "                *\n",
    "               ***\n",
    "              *****\n",
    "             *******\n",
    "            *********"
   ]
  },
  {
   "cell_type": "code",
   "execution_count": 14,
   "id": "da13261f-9def-4305-8765-6831e839a416",
   "metadata": {},
   "outputs": [
    {
     "name": "stdout",
     "output_type": "stream",
     "text": [
      "     * \n",
      "    * * \n",
      "   * * * \n",
      "  * * * * \n",
      " * * * * * \n",
      "* * * * * * \n"
     ]
    }
   ],
   "source": [
    "for i in range(0, 6):\n",
    "    for j in range(0, 6-i-1):\n",
    "        print(end=\" \")\n",
    "    for j in range(0, i+1):\n",
    "            print(\"*\", end=\" \")\n",
    "    print()"
   ]
  },
  {
   "cell_type": "markdown",
   "id": "d1178f87-b2e9-49a7-a8b3-57b716e577d2",
   "metadata": {},
   "source": [
    "### Q.10. Write a code to create the given structure using while loop.\n",
    "     |||||||||\n",
    "      |||||||\n",
    "       |||||\n",
    "        |||\n",
    "         |"
   ]
  },
  {
   "cell_type": "code",
   "execution_count": 23,
   "id": "5a37b281-04e0-4b5c-a483-000028fd9bfa",
   "metadata": {},
   "outputs": [
    {
     "name": "stdout",
     "output_type": "stream",
     "text": [
      "|||||||||\n",
      " |||||||\n",
      "  |||||\n",
      "   |||\n",
      "    |\n"
     ]
    }
   ],
   "source": [
    "for i in range(5):\n",
    "    # printing spaces\n",
    "    for j in range(i):\n",
    "        print(' ', end='')\n",
    "    for j in range(2 * (5 - i - 1) + 1):\n",
    "        print('|', end='')\n",
    "    print()"
   ]
  },
  {
   "cell_type": "code",
   "execution_count": null,
   "id": "97970709-0f3c-40c3-b657-1e1e5bf5e62e",
   "metadata": {},
   "outputs": [],
   "source": []
  }
 ],
 "metadata": {
  "kernelspec": {
   "display_name": "Python 3 (ipykernel)",
   "language": "python",
   "name": "python3"
  },
  "language_info": {
   "codemirror_mode": {
    "name": "ipython",
    "version": 3
   },
   "file_extension": ".py",
   "mimetype": "text/x-python",
   "name": "python",
   "nbconvert_exporter": "python",
   "pygments_lexer": "ipython3",
   "version": "3.9.13"
  }
 },
 "nbformat": 4,
 "nbformat_minor": 5
}
